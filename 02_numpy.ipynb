{
 "cells": [
  {
   "cell_type": "markdown",
   "metadata": {},
   "source": [
    "# **Numpy (Part-2)**\n",
    "\n",
    "- Numpy Website: [Website Link](https//numpy.org/)\n",
    "- Numpy Documentation: [Documentation Link](https://numpy.org/doc/stable/)\n",
    "> Numpy Beginner Guide: [Guide Link](https://numpy.org/doc/stable/user/absolute_beginners.html)"
   ]
  },
  {
   "cell_type": "code",
   "execution_count": 1,
   "metadata": {},
   "outputs": [],
   "source": [
    "import numpy as np"
   ]
  },
  {
   "cell_type": "markdown",
   "metadata": {},
   "source": [
    "# **Initialize Arrays:**"
   ]
  },
  {
   "cell_type": "markdown",
   "metadata": {},
   "source": [
    "#### **5. `empty` function:**\n",
    "> An empty array in NumPy is an array that is allocated but not populated with any data. When you create an empty array using `numpy.empty()`, it is filled with whatever values were already in memory at that location. \n",
    "\n",
    "`a = np.empty(3)`- empty aray with 3 elements\n",
    "\n",
    "- The `output` of this code will be an array with 3 elements, but the values of those elements are `unpredictable`.\n",
    "\n",
    "**Use of empty array?**\n",
    "- The main use of `numpy.empty()` is to allocate large arrays when you know that you're going to overwrite all of the elements. \n",
    "- Because `numpy.empty()` does not initialize the array elements to any particular values like `numpy.zeros()` or `numpy.ones()` do, it can be slightly faster if you're creating a large array.\n",
    "\n",
    "> However, you should be careful when using `numpy.empty()`, because it can sometimes lead to confusing results if you assume that the array will be initialized to zeros or some other value."
   ]
  },
  {
   "cell_type": "code",
   "execution_count": 2,
   "metadata": {},
   "outputs": [
    {
     "name": "stdout",
     "output_type": "stream",
     "text": [
      "[ 4.52231634e+150 -6.24773225e+178]\n",
      "------------\n",
      "[[4.45061032e-308 9.34604358e-307 1.37959129e-306]\n",
      " [1.33511969e-306 1.24611266e-306 2.11382017e-307]]\n",
      "------------\n",
      "[4.45061032e-308 9.34604358e-307 1.37959129e-306]\n",
      "------------\n",
      "[1.33511969e-306 1.24611266e-306 2.11382017e-307]\n"
     ]
    }
   ],
   "source": [
    "empty_1 = np.empty((2))     # Create an uninitialized array with 2 elements\n",
    "print(empty_1)              # Print the array\n",
    "\n",
    "print(\"------------\")       # Print a separator to make the output more readable\n",
    "\n",
    "empty_2 = np.empty((2, 3))  # Create an uninitialized array with 2 rows and 3 columns\n",
    "print(empty_2)              # Print the array\n",
    "\n",
    "print(\"------------\")       # Print a separator to make the output more readable\n",
    "\n",
    "print(empty_2[0])           # Print the first element of the array\n",
    "print(\"------------\")       # Print a separator \n",
    "print(empty_2[1])           # Print the second element of the array\n",
    "# in the output values the negative power of e shows that the values are very small and close to zero but not zero \n",
    "# but positive   "
   ]
  },
  {
   "cell_type": "markdown",
   "metadata": {},
   "source": [
    "### **Key Points:**\n",
    "- The first element `([0])` of the array is not initialized, so it can be anything\n",
    "- The second element `([1])` of the array is not initialized, so it can be anything\n",
    "- The `np.empty()` function in NumPy creates an array without initializing its elements to any particular values. \n",
    "- It simply allocates the memory for the array. \n",
    "- The values that you see in the array are whatever values were already present in the memory.\n",
    "> When you see `very small` or very `large numbers` in scientific notation (like `1.47039e+224` or `2.47033e-323`), these are just the values that happened to be in the memory locations that were allocated for the array. They don't have any particular meaning, and you can't make any assumptions about them.\n",
    "- If you're going to use an array created with `np.empty()`, you should make sure to fill it with your own values before you use it. Otherwise, you might get unpredictable results from your code."
   ]
  },
  {
   "cell_type": "markdown",
   "metadata": {},
   "source": [
    "#### **6. `arange` function:**\n",
    "- The `np.arange()` function in NumPy is used to generate sequences of numbers within a defined interval. \n",
    "- It's similar to the built-in Python function `range()`, but it returns a NumPy array.\n",
    "\n",
    "> **Usage**: The `np.arange()` function is useful when you need to create an array with a sequence of numbers, especially for use as an index array."
   ]
  },
  {
   "cell_type": "code",
   "execution_count": 3,
   "metadata": {},
   "outputs": [
    {
     "name": "stdout",
     "output_type": "stream",
     "text": [
      "[ 0  1  2  3  4  5  6  7  8  9 10 11 12 13 14 15 16 17 18 19 20 21 22]\n"
     ]
    }
   ],
   "source": [
    "#1 Create an array with values from 0 to 22\n",
    "x = np.arange(23)  \n",
    "print(x)"
   ]
  },
  {
   "cell_type": "markdown",
   "metadata": {},
   "source": [
    "- the first element is `0` and the last element is `22`\n",
    "- the elements are separated by `1` & are `integers`\n",
    "- the array is `one dimensional`\n",
    "- the array is a `vector`"
   ]
  },
  {
   "cell_type": "markdown",
   "metadata": {},
   "source": [
    "- You can also specify a `start value`, an `end value`, and a `step value`:"
   ]
  },
  {
   "cell_type": "code",
   "execution_count": 4,
   "metadata": {},
   "outputs": [
    {
     "name": "stdout",
     "output_type": "stream",
     "text": [
      "[ 0  2  4  6  8 10 12 14 16 18 20 22]\n"
     ]
    }
   ],
   "source": [
    "#2 Create an array with values from 0 to 23, stepping by 2\n",
    "# Even numbers:\n",
    "y = np.arange(0, 23, 2)\n",
    "print(y)"
   ]
  },
  {
   "cell_type": "markdown",
   "metadata": {},
   "source": [
    "- `Even numbers` from 0 to 22\n",
    "- `stepping by 2` means that the array will start from 0 and end at 22 but the values will be `incremented by 2`\n",
    "- Note that the end value is exclusive, so `np.arange(0, 23, 2)` generates values up to but not including 23."
   ]
  },
  {
   "cell_type": "code",
   "execution_count": 5,
   "metadata": {},
   "outputs": [
    {
     "name": "stdout",
     "output_type": "stream",
     "text": [
      "[ 1  3  5  7  9 11 13 15 17 19 21]\n"
     ]
    }
   ],
   "source": [
    "#3 Create an array with values from 0 to 23, stepping by 2\n",
    "# Odd numbers:\n",
    "z = np.arange(1, 23, 2)\n",
    "print(z)"
   ]
  },
  {
   "cell_type": "markdown",
   "metadata": {},
   "source": [
    "- `Odd numbers` from 1 to 22"
   ]
  },
  {
   "cell_type": "code",
   "execution_count": 6,
   "metadata": {},
   "outputs": [
    {
     "data": {
      "text/plain": [
       "array([ 0.   ,  0.515,  1.03 ,  1.545,  2.06 ,  2.575,  3.09 ,  3.605,\n",
       "        4.12 ,  4.635,  5.15 ,  5.665,  6.18 ,  6.695,  7.21 ,  7.725,\n",
       "        8.24 ,  8.755,  9.27 ,  9.785, 10.3  , 10.815, 11.33 , 11.845,\n",
       "       12.36 , 12.875, 13.39 , 13.905, 14.42 , 14.935, 15.45 , 15.965,\n",
       "       16.48 , 16.995, 17.51 , 18.025, 18.54 , 19.055, 19.57 , 20.085,\n",
       "       20.6  , 21.115, 21.63 , 22.145, 22.66 ])"
      ]
     },
     "execution_count": 6,
     "metadata": {},
     "output_type": "execute_result"
    }
   ],
   "source": [
    "# Create an array with specific differnce b/w numbers\n",
    "diff = np.arange(0, 23, 0.515) # 0.515 is the difference between numbers\n",
    "diff"
   ]
  },
  {
   "cell_type": "markdown",
   "metadata": {},
   "source": [
    "#### **6. `linspace` function:**\n",
    ">The `np.linspace()` function in NumPy is used to generate a sequence of evenly spaced values over a specified range. \n",
    "> It's particularly useful when you need a specific number of points within a defined interval.\n",
    "\n",
    "\n",
    "**Useful**: This can be useful in a variety of contexts, such as: \n",
    "- generating a sequence of time points for a simulation\n",
    "- creating a grid of values for a numerical method\n",
    "- or generating input values for a function plot."
   ]
  },
  {
   "cell_type": "code",
   "execution_count": 7,
   "metadata": {},
   "outputs": [
    {
     "name": "stdout",
     "output_type": "stream",
     "text": [
      "[0.00000000e+00 1.00000001e-07 2.00000002e-07 ... 9.99999980e+00\n",
      " 9.99999990e+00 1.00000000e+01]\n"
     ]
    }
   ],
   "source": [
    "lin = np.linspace(0, 10, num=100000000) # num is the number of elements in the array\n",
    "print(lin)"
   ]
  },
  {
   "cell_type": "markdown",
   "metadata": {},
   "source": [
    "- `np.linspace(0, 10, num=100000000)` generates `100000000` evenly spaced values between `0` and `10` inclusive.\n",
    "- `(0, 10, num=15)` means 15 linearly spaced numbers b/w 0 and 10 including 0 and 10\n",
    "- `linear` means difference b/w numbers is same"
   ]
  },
  {
   "cell_type": "markdown",
   "metadata": {},
   "source": [
    "#### **Data Type of Array:**"
   ]
  },
  {
   "cell_type": "code",
   "execution_count": 8,
   "metadata": {},
   "outputs": [
    {
     "data": {
      "text/plain": [
       "dtype('float64')"
      ]
     },
     "execution_count": 8,
     "metadata": {},
     "output_type": "execute_result"
    }
   ],
   "source": [
    "#1 to check the data type of the array:\n",
    "lin.dtype "
   ]
  },
  {
   "cell_type": "markdown",
   "metadata": {},
   "source": [
    "- `dtype('float64')` means that the array is of type float and has 64 bits"
   ]
  },
  {
   "cell_type": "code",
   "execution_count": 9,
   "metadata": {},
   "outputs": [
    {
     "name": "stdout",
     "output_type": "stream",
     "text": [
      "[ 0.   1.5  3.   4.5  6.   7.5  9.  10.5 12.  13.5 15.  16.5 18.  19.5\n",
      " 21.  22.5]\n"
     ]
    }
   ],
   "source": [
    "# define the dtype of array:\n",
    "x = np.arange(0 ,22.6, 1.5, dtype=np.float64)\n",
    "print(x)"
   ]
  },
  {
   "cell_type": "markdown",
   "metadata": {},
   "source": [
    "---"
   ]
  },
  {
   "cell_type": "markdown",
   "metadata": {},
   "source": [
    "#### **What is the difference between below all:** \n",
    "#### `int8, int16, int32, int64, int128, in256` and `float 16, float32, float64, float80, float96, float128, float256`\n",
    "  \n",
    "**int numbers:**\n",
    "- In NumPy, `int8`, `int16`, `int32`, `int64` are integer types that represent numbers with `no decimal point`. \n",
    "- The number following \"int\" indicates the `number of bits` that the type uses. \n",
    "- `More bits` allow for `larger numbers` but also use `more memory`. \n",
    "- For example: \n",
    "  - `int8` can represent integers from -128 to 127, while `int64` can represent much larger numbers.\n",
    "\n",
    "**float numbers:**\n",
    "- Similarly, `float16`, `float32`, `float64`, `float80`, `float96`, `float128` are floating point types that represent real numbers (numbers `with a decimal point`). \n",
    "- Again, the number following \"float\" indicates the number of bits that the type uses. \n",
    "- More bits allow for greater precision and larger numbers, but also use more memory.\n",
    "\n",
    "Here's a brief overview:\n",
    "\n",
    "- `int8`: Integer (-128 to 127)\n",
    "- `int16`: Integer (-32768 to 32767)\n",
    "- `int32`: Integer (-2147483648 to 2147483647)\n",
    "- `int64`: Integer (-9223372036854775808 to 9223372036854775807)\n",
    "\n",
    "- `float16`: Half precision float: sign bit, 5 bits exponent, 10 bits mantissa\n",
    "- `float32`: Single precision float: sign bit, 8 bits exponent, 23 bits mantissa\n",
    "- `float64`: Double precision float: sign bit, 11 bits exponent, 52 bits mantissa\n",
    "- `float96`: Extended precision float: sign bit, 15 bits exponent, 64 bits mantissa (not available on all platforms)\n",
    "- `float128`: Quadruple precision float: sign bit, 15 bits exponent, 112 bits mantissa (not available on all platforms)\n",
    "\n",
    "> Note: The floating point types (`float16`, `float32`, `float64`, `float96`, `float128`) don't have a simple range like integer types do, because they represent real numbers, which can have a fractional part. Instead, they have a certain amount of precision, which is determined by the number of bits used for the mantissa (also known as the significand).\n",
    "\n",
    "Here's a rough idea of the precision and range of these types:\n",
    "\n",
    "- `float16`: Precision of about 3.3 decimal digits. Range from roughly 5.96e-08 to 65504.\n",
    "- `float32`: Precision of about 7.2 decimal digits. Range from roughly 1.18e-38 to 3.4e38.\n",
    "- `float64`: Precision of about 15.9 decimal digits. Range from roughly 2.23e-308 to 1.8e308.\n",
    "- `float96` and `float128`: These types have even more precision and a larger range, but they're not available on all platforms.\n",
    "\n",
    "> Note: There are no `int128`, `int256`, `float80`, `float256` types in NumPy. The maximum size for integer types in NumPy is `int64`, and for floating point types it's `float128` (but `float128` is not available on all platforms).\n"
   ]
  },
  {
   "cell_type": "markdown",
   "metadata": {},
   "source": [
    "**Here's how you might create a `float32` and a `float64` in NumPy:**"
   ]
  },
  {
   "cell_type": "code",
   "execution_count": 10,
   "metadata": {},
   "outputs": [
    {
     "name": "stdout",
     "output_type": "stream",
     "text": [
      "1.1234568\n",
      "1.1234567891234568\n"
     ]
    }
   ],
   "source": [
    "import numpy as np\n",
    "\n",
    "# Create a float32\n",
    "a = np.float32(1.123456789)\n",
    "print(a)  # Outputs: 1.1234568\n",
    "\n",
    "# Create a float64\n",
    "b = np.float64(1.123456789123456789)\n",
    "print(b)  # Outputs: 1.1234567891234568\n"
   ]
  },
  {
   "cell_type": "markdown",
   "metadata": {},
   "source": [
    "- In this example, you can see that the `float32` only retains about 7 decimal digits of precision, while the `float64` retains more."
   ]
  },
  {
   "cell_type": "markdown",
   "metadata": {},
   "source": [
    "---"
   ]
  },
  {
   "cell_type": "markdown",
   "metadata": {},
   "source": [
    "#### **7. Sorting/Arranging an Array:**"
   ]
  },
  {
   "cell_type": "code",
   "execution_count": 11,
   "metadata": {},
   "outputs": [
    {
     "name": "stdout",
     "output_type": "stream",
     "text": [
      "[2 1 5 3 7 4 6 8]\n"
     ]
    }
   ],
   "source": [
    "#1 defining an array with specific data type:\n",
    "arr = np.array([2, 1, 5, 3, 7, 4, 6, 8])\n",
    "print(arr)"
   ]
  },
  {
   "cell_type": "code",
   "execution_count": 12,
   "metadata": {},
   "outputs": [
    {
     "name": "stdout",
     "output_type": "stream",
     "text": [
      "[1 2 3 4 5 6 7 8]\n"
     ]
    }
   ],
   "source": [
    "#2 sorting an array:\n",
    "arr = np.sort(arr)\n",
    "print(arr)"
   ]
  },
  {
   "cell_type": "markdown",
   "metadata": {},
   "source": [
    "In addition to sort, which returns a sorted copy of an array, you can use:\n",
    "\n",
    "- [argsort](https://numpy.org/doc/stable/reference/generated/numpy.argsort.html#numpy.argsort), which is an indirect sort along a specified axis,\n",
    "\n",
    "- [lexsort](https://numpy.org/doc/stable/reference/generated/numpy.lexsort.html#numpy.lexsort), which is an indirect stable sort on multiple keys,\n",
    "\n",
    "- [searchsorted](https://numpy.org/doc/stable/reference/generated/numpy.searchsorted.html#numpy.searchsorted), which will find elements in a sorted array, and\n",
    "\n",
    "- [partition](https://numpy.org/doc/stable/reference/generated/numpy.partition.html#numpy.partition), which is a partial sort.\n",
    "\n",
    "To read more about sorting an array, see: [sort](https://numpy.org/doc/stable/reference/generated/numpy.sort.html#numpy.sort)."
   ]
  },
  {
   "cell_type": "markdown",
   "metadata": {},
   "source": [
    "#### **8. Concatenate function:**\n",
    "- In the context of NumPy, `concatenate` is a function that joins two or more arrays along an existing axis. \n",
    "\n",
    "- `np.concatenate((a,b))` is joining the arrays `a` and `b` together. \n",
    "- If `a` and `b` are both **one-dimensional** arrays, the result will be a single one-dimensional array that contains the elements of `a` followed by the elements of `b`.\n",
    "- For example: \n",
    "  - if `a = np.array([1, 2, 3])` and `b = np.array([4, 5, 6])`, then `np.concatenate((a, b))` would result in `array([1, 2, 3, 4, 5, 6])`.\n",
    "- If `a` and `b` are **multi-dimensional** arrays, they will be joined along the first axis (axis 0) by default, but you can specify a different axis by using the `axis` parameter. The arrays must have the same shape along all but the specified axis."
   ]
  },
  {
   "cell_type": "markdown",
   "metadata": {},
   "source": [
    "#### **Concatenate 1D Arrays:**"
   ]
  },
  {
   "cell_type": "code",
   "execution_count": 13,
   "metadata": {},
   "outputs": [],
   "source": [
    "#1 defining an array with specific data type:\n",
    "a = np.array([1,2,3,4,5])\n",
    "b = np.array([6,7,8,9,10])"
   ]
  },
  {
   "cell_type": "code",
   "execution_count": 14,
   "metadata": {},
   "outputs": [
    {
     "name": "stdout",
     "output_type": "stream",
     "text": [
      "[ 1  2  3  4  5  6  7  8  9 10]\n"
     ]
    }
   ],
   "source": [
    "#2 concatenate these arrays into one array:\n",
    "c = np.concatenate((a,b))\n",
    "print(c)"
   ]
  },
  {
   "cell_type": "markdown",
   "metadata": {},
   "source": [
    "#### **Concatenate 2D Arrays:**"
   ]
  },
  {
   "cell_type": "code",
   "execution_count": 15,
   "metadata": {},
   "outputs": [],
   "source": [
    "x = np.array([[1, 2], [3, 4]]) # 2x2 array (2D)\n",
    "y = np.array([[5, 6]])         # 1x2 array (2D)"
   ]
  },
  {
   "cell_type": "code",
   "execution_count": 16,
   "metadata": {},
   "outputs": [
    {
     "name": "stdout",
     "output_type": "stream",
     "text": [
      "2\n",
      "1\n"
     ]
    }
   ],
   "source": [
    "len(x)\n",
    "len(y)\n",
    "print(len(x))\n",
    "print(len(y))"
   ]
  },
  {
   "cell_type": "markdown",
   "metadata": {},
   "source": [
    "##### **2D Array at axis=0:**"
   ]
  },
  {
   "cell_type": "code",
   "execution_count": 17,
   "metadata": {},
   "outputs": [
    {
     "data": {
      "text/plain": [
       "array([[1, 2],\n",
       "       [3, 4],\n",
       "       [5, 6]])"
      ]
     },
     "execution_count": 17,
     "metadata": {},
     "output_type": "execute_result"
    }
   ],
   "source": [
    "# concatenate 2D arrays\n",
    "z = np.concatenate((x, y), axis=0)\n",
    "z"
   ]
  },
  {
   "cell_type": "markdown",
   "metadata": {},
   "source": [
    "#### **Key Points:**\n",
    "- to concatenate at `axis=0` the `number of columns should be same`\n",
    "- axis=0 means `adding rows` (vertical)"
   ]
  },
  {
   "cell_type": "markdown",
   "metadata": {},
   "source": [
    "##### **2D Array at axis=1:**"
   ]
  },
  {
   "cell_type": "code",
   "execution_count": 18,
   "metadata": {},
   "outputs": [],
   "source": [
    "w = np.array([[5,1], [7,1]])   # 2x2 array (2D)\n",
    "x = np.array([[1, 2], [3, 4]]) # 2x2 array (2D)"
   ]
  },
  {
   "cell_type": "code",
   "execution_count": 19,
   "metadata": {},
   "outputs": [
    {
     "data": {
      "text/plain": [
       "array([[5, 1, 1, 2],\n",
       "       [7, 1, 3, 4]])"
      ]
     },
     "execution_count": 19,
     "metadata": {},
     "output_type": "execute_result"
    }
   ],
   "source": [
    "z1 = np.concatenate((w,x), axis=1)\n",
    "z1"
   ]
  },
  {
   "cell_type": "markdown",
   "metadata": {},
   "source": [
    "- to concatenate at `axis=1` the `number of rows should be same`\n",
    "- axis=1 means `adding columns` (horizontal)"
   ]
  },
  {
   "cell_type": "markdown",
   "metadata": {},
   "source": [
    "##### **3D Array:**\n",
    "- We need `three 2D-Arrays` to create 3D-Array"
   ]
  },
  {
   "cell_type": "code",
   "execution_count": 20,
   "metadata": {},
   "outputs": [
    {
     "data": {
      "text/plain": [
       "3"
      ]
     },
     "execution_count": 20,
     "metadata": {},
     "output_type": "execute_result"
    }
   ],
   "source": [
    "# create a 3D array of size 3x2x4:\n",
    "array_example = np.array([[[0, 1, 2, 3],\n",
    "                           [4, 5, 6, 7]],\n",
    "\n",
    "                          [[0, 1, 2, 3],\n",
    "                           [4, 5, 6, 7]],\n",
    "\n",
    "                          [[0 ,1 ,2, 3],\n",
    "                           [4, 5, 6, 7]]])\n",
    "array_example.ndim\n"
   ]
  },
  {
   "cell_type": "markdown",
   "metadata": {},
   "source": [
    "- `3x2x4` array means `3 arrays of size 2x4`\n",
    "- We need three 2x4 (2D) arrays to create a 3D array of size 3x2x4 "
   ]
  },
  {
   "cell_type": "code",
   "execution_count": 21,
   "metadata": {},
   "outputs": [
    {
     "data": {
      "text/plain": [
       "3"
      ]
     },
     "execution_count": 21,
     "metadata": {},
     "output_type": "execute_result"
    }
   ],
   "source": [
    "len(array_example)\n",
    "# len() function shows the number of elements in the first axis\n",
    "# in this case the first axis is 3 so the len() function shows 3"
   ]
  },
  {
   "cell_type": "code",
   "execution_count": 22,
   "metadata": {},
   "outputs": [
    {
     "data": {
      "text/plain": [
       "24"
      ]
     },
     "execution_count": 22,
     "metadata": {},
     "output_type": "execute_result"
    }
   ],
   "source": [
    "array_example.size\n",
    "# size() function shows the number of elements in the array"
   ]
  },
  {
   "cell_type": "code",
   "execution_count": 23,
   "metadata": {},
   "outputs": [
    {
     "data": {
      "text/plain": [
       "dtype('int32')"
      ]
     },
     "execution_count": 23,
     "metadata": {},
     "output_type": "execute_result"
    }
   ],
   "source": [
    "array_example.dtype\n",
    "# dtype() function shows the data type of the elements in the array"
   ]
  },
  {
   "cell_type": "code",
   "execution_count": 24,
   "metadata": {},
   "outputs": [
    {
     "data": {
      "text/plain": [
       "(3, 2, 4)"
      ]
     },
     "execution_count": 24,
     "metadata": {},
     "output_type": "execute_result"
    }
   ],
   "source": [
    "array_example.shape\n",
    "# shape() function shows the shape of the array in the form of (x,y,z)"
   ]
  },
  {
   "cell_type": "code",
   "execution_count": 25,
   "metadata": {},
   "outputs": [
    {
     "data": {
      "text/plain": [
       "(3, 1, 4)"
      ]
     },
     "execution_count": 25,
     "metadata": {},
     "output_type": "execute_result"
    }
   ],
   "source": [
    "# creata 3D array of size (3,1,4)\n",
    "a1 = np.array([[[0, 1, 2, 3]],\n",
    "                          [[4, 5, 6, 7]],\n",
    "                          [[0, 1, 2, 3]]])\n",
    "a1.shape\n"
   ]
  },
  {
   "cell_type": "markdown",
   "metadata": {},
   "source": [
    "- 3x1x4 means `3 arrays of size 1x4`"
   ]
  },
  {
   "cell_type": "code",
   "execution_count": 26,
   "metadata": {},
   "outputs": [
    {
     "data": {
      "text/plain": [
       "(6, 2)"
      ]
     },
     "execution_count": 26,
     "metadata": {},
     "output_type": "execute_result"
    }
   ],
   "source": [
    "# Reshape the array (a1) into a 2D array with 6 rows and 2 columns:\n",
    "a2 = a1.reshape(6,2)\n",
    "a2.shape"
   ]
  },
  {
   "cell_type": "code",
   "execution_count": 27,
   "metadata": {},
   "outputs": [
    {
     "data": {
      "text/plain": [
       "array([[[0, 1, 2, 3]],\n",
       "\n",
       "       [[4, 5, 6, 7]],\n",
       "\n",
       "       [[0, 1, 2, 3]]])"
      ]
     },
     "execution_count": 27,
     "metadata": {},
     "output_type": "execute_result"
    }
   ],
   "source": [
    "a1 # let's see the original array "
   ]
  },
  {
   "cell_type": "code",
   "execution_count": 28,
   "metadata": {},
   "outputs": [
    {
     "data": {
      "text/plain": [
       "array([[0, 1],\n",
       "       [2, 3],\n",
       "       [4, 5],\n",
       "       [6, 7],\n",
       "       [0, 1],\n",
       "       [2, 3]])"
      ]
     },
     "execution_count": 28,
     "metadata": {},
     "output_type": "execute_result"
    }
   ],
   "source": [
    "a2 # let's see the reshaped array"
   ]
  },
  {
   "cell_type": "code",
   "execution_count": 29,
   "metadata": {},
   "outputs": [
    {
     "data": {
      "text/plain": [
       "array([[[0, 1],\n",
       "        [2, 3]],\n",
       "\n",
       "       [[4, 5],\n",
       "        [6, 7]],\n",
       "\n",
       "       [[0, 1],\n",
       "        [2, 3]]])"
      ]
     },
     "execution_count": 29,
     "metadata": {},
     "output_type": "execute_result"
    }
   ],
   "source": [
    "# Reshape the array (a2) into a 3D array with 3 rows, 2 columns, and 2 elements in each row and column:\n",
    "a2.reshape(3,2,2) "
   ]
  },
  {
   "cell_type": "markdown",
   "metadata": {},
   "source": [
    "#### **How to convert a 1D array into a 2D array (how to add a new axis to an array):**"
   ]
  },
  {
   "cell_type": "code",
   "execution_count": 30,
   "metadata": {},
   "outputs": [
    {
     "name": "stdout",
     "output_type": "stream",
     "text": [
      "(8,)\n",
      "[1 2 3 4 5 6 7 8]\n",
      "1\n"
     ]
    }
   ],
   "source": [
    "#1 create a 1D array:\n",
    "a = np.array([1, 2, 3, 4, 5, 6, 7, 8])\n",
    "a.shape\n",
    "print(a.shape)\n",
    "print(a)\n",
    "print(a.ndim)"
   ]
  },
  {
   "cell_type": "code",
   "execution_count": 31,
   "metadata": {},
   "outputs": [
    {
     "name": "stdout",
     "output_type": "stream",
     "text": [
      "(1, 8)\n",
      "[[1 2 3 4 5 6 7 8]]\n",
      "2\n"
     ]
    }
   ],
   "source": [
    "#2 convert that into 2D array:\n",
    "b = a[np.newaxis, :]\n",
    "print(b.shape)\n",
    "print(b)\n",
    "print(b.ndim)"
   ]
  },
  {
   "cell_type": "markdown",
   "metadata": {},
   "source": [
    "- `np.newaxis` is used to increase the dimension of the existing array by one more dimension\n",
    "- `:` means all the elements in the array\n",
    "- `: after the comma means` axis must be on rows and not on columns\n",
    "- : after the comma means axis 1\n",
    "- `[[]]` in output shows 2D array"
   ]
  },
  {
   "cell_type": "code",
   "execution_count": 32,
   "metadata": {},
   "outputs": [
    {
     "name": "stdout",
     "output_type": "stream",
     "text": [
      "(8, 1)\n",
      "[[1]\n",
      " [2]\n",
      " [3]\n",
      " [4]\n",
      " [5]\n",
      " [6]\n",
      " [7]\n",
      " [8]]\n",
      "2\n"
     ]
    }
   ],
   "source": [
    "c = a[: , np.newaxis]\n",
    "# : before the comma means array whose axis is on the column\n",
    "print(c.shape)\n",
    "print(c)\n",
    "print(c.ndim)"
   ]
  },
  {
   "cell_type": "markdown",
   "metadata": {},
   "source": [
    "#### **9. Indexing and Slicing:**\n",
    "> Indexing and slicing in NumPy refer to accessing or extracting specific elements, rows, columns, or sections from an array.\n",
    "\n",
    "**Indexing** is used to `access individual elements` in an array. \n",
    "- In a `one-dimensional` array, you can access elements just like you would in a standard Python list:\n",
    "\n",
    "- a = np.array([1, 2, 3, 4, 5])\\\n",
    "  print(a[0])  # Outputs: 1\\\n",
    "  print(a[-1])  # Outputs: 5\n",
    "\n",
    "In a `multi-dimensional` array, you can access elements by specifying the indices in each dimension, separated by commas:\n",
    "\n",
    "- b = np.array([[1, 2, 3], [4, 5, 6], [7, 8, 9]])\\\n",
    "  print(b[0, 0])  # Outputs: 1\\\n",
    "  print(b[1, 2])  # Outputs: 6\n",
    "\n",
    "**Slicing** is used to `access a sequence of elements` in an array. The syntax is `start:stop:step`, where `start` is the index to start from, `stop` is the index to go up to (but not include), and `step` is the difference between each index in the slice:\n",
    "\n",
    "- print(a[1:4])  # Outputs: [2 3 4]\n",
    "\n",
    "In a `multi-dimensional` array, you can slice along each dimension:\n",
    "\n",
    "- print(b[0:2, 1:3])  # Outputs: [[2 3]\\\n",
    "                     #           [5 6]]\n",
    "\n",
    "- In this example, `b[0:2, 1:3]` gets the subarray consisting of the first two rows and the last two columns."
   ]
  },
  {
   "cell_type": "markdown",
   "metadata": {},
   "source": [
    "---\n",
    "In NumPy, you can use a variety of boolean or conditional operators to perform element-wise comparisons and generate boolean arrays. Here are some of them:\n",
    "\n",
    "- `>`: Greater than\n",
    "- `<`: Less than\n",
    "- `>=`: Greater than or equal to\n",
    "- `<=`: Less than or equal to\n",
    "- `==`: Equal to\n",
    "- `!=`: Not equal to\n",
    "\n",
    "You can also use the following functions for element-wise comparisons:\n",
    "\n",
    "- `np.greater()`: Greater than\n",
    "- `np.less()`: Less than\n",
    "- `np.greater_equal()`: Greater than or equal to\n",
    "- `np.less_equal()`: Less than or equal to\n",
    "- `np.equal()`: Equal to\n",
    "- `np.not_equal()`: Not equal to\n",
    "\n",
    "And the logical operators are:\n",
    "\n",
    "- `and`: Logical AND\n",
    "- `or`: Logical OR\n",
    "- `not`: Logical NOT\n",
    "Additionally, you can use the following logical operations:\n",
    "\n",
    "- `np.logical_and()`: Element-wise logical AND\n",
    "- `np.logical_or()`: Element-wise logical OR\n",
    "- `np.logical_not()`: Element-wise logical NOT\n",
    "- `np.logical_xor()`: Element-wise logical XOR"
   ]
  },
  {
   "cell_type": "markdown",
   "metadata": {},
   "source": [
    "#### **For 1D Array:**"
   ]
  },
  {
   "cell_type": "code",
   "execution_count": 33,
   "metadata": {},
   "outputs": [
    {
     "data": {
      "text/plain": [
       "array([1, 2, 3, 4, 5, 6, 7, 8])"
      ]
     },
     "execution_count": 33,
     "metadata": {},
     "output_type": "execute_result"
    }
   ],
   "source": [
    "a = np.array([1, 2, 3, 4, 5, 6, 7, 8])\n",
    "a"
   ]
  },
  {
   "cell_type": "code",
   "execution_count": 34,
   "metadata": {},
   "outputs": [
    {
     "name": "stdout",
     "output_type": "stream",
     "text": [
      "2\n",
      "[2 3 4 5 6 7 8]\n",
      "[3 4 5]\n"
     ]
    }
   ],
   "source": [
    "print(a[1])\n",
    "print(a[1:])\n",
    "print(a[2:5])"
   ]
  },
  {
   "cell_type": "markdown",
   "metadata": {},
   "source": [
    "We're using indexing and slicing to access elements of the array `a`.\n",
    "\n",
    "- `a[1]` returns the element at index 1 of the array `a`. \n",
    "- In Python, indexing is zero-based, so `a[1]` returns the second element of the array. \n",
    "- `a[1:]` returns a slice of the array `a` starting from index 1 (the second element) to the end of the array. \n",
    "- `a[2:5]` returns a slice of the array `a` starting from index 2 (the third element) up to, but not including, index 5."
   ]
  },
  {
   "cell_type": "markdown",
   "metadata": {},
   "source": [
    "#### **Negative Indexing:**"
   ]
  },
  {
   "cell_type": "code",
   "execution_count": 35,
   "metadata": {},
   "outputs": [
    {
     "name": "stdout",
     "output_type": "stream",
     "text": [
      "8\n",
      "[8]\n",
      "[]\n"
     ]
    }
   ],
   "source": [
    "print(a[-1])\n",
    "print(a[-1:])\n",
    "print(a[-2:-5])"
   ]
  },
  {
   "cell_type": "markdown",
   "metadata": {},
   "source": [
    "- `a[-1]` returns the last element of the array `a`, which is 8.\n",
    "- `a[-1:]` returns a slice of the array `a` starting from the last element to the end of the array. Since the last element is the end of the array, this slice only contains the last element. \n",
    "- `a[-2:-5]` attempts to return a slice of the array `a` starting from the second last element up to, but not including, the fifth last element. However, because the start index is after the stop index in this case, this slice is empty. "
   ]
  },
  {
   "cell_type": "markdown",
   "metadata": {},
   "source": [
    "#### **For 2D Array:**"
   ]
  },
  {
   "cell_type": "code",
   "execution_count": 36,
   "metadata": {},
   "outputs": [
    {
     "name": "stdout",
     "output_type": "stream",
     "text": [
      "[[ 1  2  3  4]\n",
      " [ 5  6  7  8]\n",
      " [ 9 10 11 12]]\n",
      "2\n"
     ]
    }
   ],
   "source": [
    "b = np.array([[1 , 2, 3, 4], [5, 6, 7, 8], [9, 10, 11, 12]])\n",
    "print(b)\n",
    "print(b.ndim)"
   ]
  },
  {
   "cell_type": "code",
   "execution_count": 37,
   "metadata": {},
   "outputs": [
    {
     "name": "stdout",
     "output_type": "stream",
     "text": [
      "[1 2 3 4]\n",
      "[5 6 7 8]\n",
      "[ 9 10 11 12]\n",
      "2\n",
      "[[ 6  7  8]\n",
      " [10 11 12]]\n"
     ]
    }
   ],
   "source": [
    "print(b[0])     # first row f b array\n",
    "print(b[1])     # second row of b array\n",
    "print(b[2])     # third row of b array\n",
    "print(b[0, 1])  # first row and second element of b array\n",
    "print(b[1:,1:]) # second and third row and second, third and fourth element of b array"
   ]
  },
  {
   "cell_type": "code",
   "execution_count": 38,
   "metadata": {},
   "outputs": [
    {
     "name": "stdout",
     "output_type": "stream",
     "text": [
      "[1 2 3 4]\n",
      "[ 6  7  8  9 10 11 12]\n",
      "[ 1  2  3  4  5  6  7  8  9 10]\n",
      "[10 11 12]\n",
      "[10]\n",
      "[ 1  2  3  4  5  6  7  8  9 11 12]\n"
     ]
    }
   ],
   "source": [
    "print(b[b < 5])   # print the elements of b which are less than 5\n",
    "print(b[b > 5])   # print the elements of b which are greater than 5\n",
    "print(b[b <= 10]) # print the elements of b which are less than or equal to 10\n",
    "print(b[b >= 10]) # print the elements of b which are greater than or equal to 10\n",
    "print(b[b == 10]) # print the elements of b which are equal to 10\n",
    "print(b[b != 10]) # print the elements of b which are not equal to 10"
   ]
  },
  {
   "cell_type": "code",
   "execution_count": 39,
   "metadata": {},
   "outputs": [
    {
     "name": "stdout",
     "output_type": "stream",
     "text": [
      "[ 2  4  6  8 10 12]\n",
      "[ 1  3  5  7  9 11]\n"
     ]
    }
   ],
   "source": [
    "\n",
    "print(b[b % 2 == 0]) # filter even numbers from b array, 0 is remainder when b is divided by 2\n",
    "\n",
    "# b % 2 == 0 is a condition which is true for even numbers and false for odd numbers\n",
    "# b[b % 2 == 0] is a filter which filters the elements of b array which satisfy the condition b % 2 == 0\n",
    "# % is the remainder operator\n",
    "print(b[b % 2 == 1]) # filter odd numbers from b array, 1 is remainder when b is divided by 2"
   ]
  },
  {
   "cell_type": "markdown",
   "metadata": {},
   "source": [
    "#### Remainde Operator:"
   ]
  },
  {
   "cell_type": "code",
   "execution_count": 40,
   "metadata": {},
   "outputs": [
    {
     "data": {
      "text/plain": [
       "array([ 1,  3,  5,  7,  9, 11])"
      ]
     },
     "execution_count": 40,
     "metadata": {},
     "output_type": "execute_result"
    }
   ],
   "source": [
    "# filter odd numbers\n",
    "b[b % 2 == 1] "
   ]
  },
  {
   "cell_type": "markdown",
   "metadata": {},
   "source": [
    "#### **Select elements that satisfy two conditions using the `&` and `|` operators:**"
   ]
  },
  {
   "cell_type": "markdown",
   "metadata": {},
   "source": [
    "- ##### Using `&` (and) operator:"
   ]
  },
  {
   "cell_type": "code",
   "execution_count": 41,
   "metadata": {},
   "outputs": [
    {
     "name": "stdout",
     "output_type": "stream",
     "text": [
      "[ 3  4  5  6  7  8  9 10]\n",
      "[ 4  6  8 10]\n"
     ]
    }
   ],
   "source": [
    "# Use two conditions and filter the arrays:\n",
    "print(b[(b > 2) & (b < 11)])    # filter the elements of b which are greater than 2 and less than 11\n",
    "\n",
    "# Use three conditions and filter the arrays:\n",
    "print(b[(b > 2) & (b < 11) & (b % 2 == 0)]) # filter the elements of b which are greater than 2 and less than 11 and even"
   ]
  },
  {
   "cell_type": "markdown",
   "metadata": {},
   "source": [
    "- ##### Using `|` (or) operator:"
   ]
  },
  {
   "cell_type": "code",
   "execution_count": 42,
   "metadata": {},
   "outputs": [
    {
     "name": "stdout",
     "output_type": "stream",
     "text": [
      "[ 1  2  3  4  5  6  7  8  9 10 11 12]\n",
      "[ 1  2  3  4  5  6  7  8  9 10 11 12]\n"
     ]
    }
   ],
   "source": [
    "# Use two conditions and filter the arrays:\n",
    "print(b[(b > 2) | (b < 11)]) # filter the elements of b which are greater than 2 or less than 11\n",
    "# Use three conditions and filter the arrays:\n",
    "print(b[(b > 2) | (b < 11) | (b % 2 == 0)]) # filter the elements of b which are greater than 2 or less than 11 or even"
   ]
  },
  {
   "cell_type": "markdown",
   "metadata": {},
   "source": [
    "#### **How to create an array from existing data?**\n",
    "- Create a New Array from from a section of your Array:"
   ]
  },
  {
   "cell_type": "code",
   "execution_count": 45,
   "metadata": {},
   "outputs": [
    {
     "name": "stdout",
     "output_type": "stream",
     "text": [
      "[  0   5  10  15  20  25  30  35  40  45  50  55  60  65  70  75  80  85\n",
      "  90  95 100 105 110 115 120 125 130 135 140 145 150 155 160 165 170 175\n",
      " 180 185 190 195 200 205 210 215 220]\n",
      "45\n"
     ]
    }
   ],
   "source": [
    "# Create an array from a section of an existing array:\n",
    "a = np.arange(0,222,5)\n",
    "print(a)\n",
    "print(len(a))"
   ]
  },
  {
   "cell_type": "code",
   "execution_count": 48,
   "metadata": {},
   "outputs": [
    {
     "name": "stdout",
     "output_type": "stream",
     "text": [
      "[200 205 210 215 220]\n"
     ]
    }
   ],
   "source": [
    "array_1 = a[40:45] # create an array from 40th to 45th element of a array\n",
    "print(array_1)"
   ]
  },
  {
   "cell_type": "markdown",
   "metadata": {},
   "source": [
    "- #### **`Stack` two existing arrays (Vertically / Horizontally):**\n",
    "**What is difference between `Stack` & `Concatenate`?**\n",
    "\n",
    "> `np.concatenate`, `np.vstack`, and `np.hstack` are all NumPy functions used to join two or more arrays. \n",
    "- The difference lies in how and where they join the arrays:\n",
    "\n",
    "**`np.concatenate`:**\n",
    "- Joins arrays along an existing axis. You need to specify the axis along which the arrays will be concatenated. \n",
    "- If no axis is specified, it defaults to `axis 0`.\n",
    "\n",
    "- `c = np.concatenate((a, b))`  # Joins a and b along axis 0\n",
    "\n",
    "**`np.vstack` (vertical stack):**\n",
    "- Joins arrays along a new first axis (vertically). \n",
    "- It's equivalent to concatenation along the first axis after 1-D arrays of shape `(N,)` have been reshaped to `(1, N)`. \n",
    "- It's useful when you want to stack arrays in sequence vertically (row wise).\n",
    "\n",
    "- `c = np.vstack((a, b))`  # Stacks a and b vertically\n",
    "\n",
    "**`np.hstack` (horizontal stack):** \n",
    "- Joins arrays along a new last axis (horizontally). \n",
    "- It's equivalent to concatenation along the second axis, except for 1-D arrays where it concatenates along the first axis. \n",
    "- It's useful when you want to stack arrays in sequence horizontally (column wise).\n",
    "\n",
    "- `c = np.hstack((a, b))`  # Stacks a and b horizontally"
   ]
  },
  {
   "cell_type": "code",
   "execution_count": 49,
   "metadata": {},
   "outputs": [],
   "source": [
    "# Let's Create two arrays:\n",
    "a = np.array([1,2,3,4,5,6,7])\n",
    "b = np.array([8,9,10,11,12,13,14])\n",
    "# length of these arrays must be same"
   ]
  },
  {
   "cell_type": "code",
   "execution_count": 55,
   "metadata": {},
   "outputs": [
    {
     "name": "stdout",
     "output_type": "stream",
     "text": [
      "[[ 1  2  3  4  5  6  7]\n",
      " [ 8  9 10 11 12 13 14]]\n"
     ]
    }
   ],
   "source": [
    "# Let's stack these two arrays vertically:\n",
    "c = np.vstack((a,b)) # vstack() function stacks the arrays vertically\n",
    "print(c)\n",
    "\n",
    "# concatenate these two arrays along the second axis (axis=1):\n",
    "# d = np.concatenate((a,b), axis=1) # concatenate() function concatenates the arrays along the second axis (axis=1)\n",
    "# print(d)\n",
    "# AxisError: axis 1 is out of bounds for array of dimension 1"
   ]
  },
  {
   "cell_type": "code",
   "execution_count": 56,
   "metadata": {},
   "outputs": [
    {
     "name": "stdout",
     "output_type": "stream",
     "text": [
      "[ 1  2  3  4  5  6  7  8  9 10 11 12 13 14]\n",
      "[ 1  2  3  4  5  6  7  8  9 10 11 12 13 14]\n"
     ]
    }
   ],
   "source": [
    "# Let's stack these two arrays horizontally:\n",
    "c = np.hstack((a,b)) # hstack() function stacks the arrays horizontally\n",
    "print(c)\n",
    "\n",
    "# concatenate these two arrays along the first axis (axis=0):\n",
    "e = np.concatenate((a,b), axis=0) # concatenate() function concatenates the arrays along the first axis (axis=0)\n",
    "print(e)"
   ]
  },
  {
   "cell_type": "markdown",
   "metadata": {},
   "source": [
    "#### **Stacking 2D Arrays:**"
   ]
  },
  {
   "cell_type": "code",
   "execution_count": 61,
   "metadata": {},
   "outputs": [
    {
     "name": "stdout",
     "output_type": "stream",
     "text": [
      "[[1 1]\n",
      " [2 2]\n",
      " [3 3]\n",
      " [4 4]]\n",
      "-------------------\n",
      "[[1 1 3 3]\n",
      " [2 2 4 4]]\n"
     ]
    }
   ],
   "source": [
    "a1 = np.array([[1, 1],\n",
    "               [2, 2]])\n",
    "\n",
    "a2 = np.array([[3, 3],\n",
    "               [4, 4]])\n",
    "\n",
    "# Let's stack these two arrays vertically:\n",
    "a3 = np.vstack((a1,a2)) \n",
    "print(a3)\n",
    "\n",
    "print('-------------------')\n",
    "\n",
    "# Let's stack these two arrays horizontally:\n",
    "a4 = np.hstack((a1,a2))\n",
    "print(a4)"
   ]
  },
  {
   "cell_type": "markdown",
   "metadata": {},
   "source": [
    "#### **`hsplit` fucntion:**\n",
    "> The `np.hsplit` function in NumPy is used to split an array into multiple sub-arrays horizontally (column-wise).\n",
    "\n",
    "- The splitting is based on a specified number of equally sized sub-arrays, or at the specified indices along the second axis (which is the horizontal axis, hence the name `hsplit`).\n",
    "\n",
    "- We use `np.hsplit` when we need to split our data into multiple subsets along the horizontal axis. This can be useful in a variety of data manipulation tasks."
   ]
  },
  {
   "cell_type": "code",
   "execution_count": 66,
   "metadata": {},
   "outputs": [
    {
     "name": "stdout",
     "output_type": "stream",
     "text": [
      "[ 1  2  3  4  5  6  7  8  9 10 11 12 13 14 15 16 17 18 19 20 21 22 23 24]\n",
      "-------------------\n",
      "[[ 1  2  3  4  5  6  7  8  9 10 11 12]\n",
      " [13 14 15 16 17 18 19 20 21 22 23 24]]\n"
     ]
    }
   ],
   "source": [
    "x = np.arange(1, 25)\n",
    "print(x)\n",
    "\n",
    "print('-------------------')\n",
    "\n",
    "print(x.reshape(2, 12))"
   ]
  },
  {
   "cell_type": "code",
   "execution_count": 71,
   "metadata": {},
   "outputs": [
    {
     "name": "stdout",
     "output_type": "stream",
     "text": [
      "[array([1, 2, 3, 4, 5, 6, 7, 8]), array([ 9, 10, 11, 12, 13, 14, 15, 16]), array([17, 18, 19, 20, 21, 22, 23, 24])]\n",
      "-------------------\n",
      "[array([1, 2, 3]), array([4]), array([ 5,  6,  7,  8,  9, 10, 11, 12, 13, 14, 15, 16, 17, 18, 19, 20, 21,\n",
      "       22, 23, 24])]\n"
     ]
    }
   ],
   "source": [
    "# split the array into 3 equal-sized sub-arrays:\n",
    "print(np.split(x, 3))\n",
    "\n",
    "print('-------------------')\n",
    "\n",
    "# split the array after the third and fourth column:\n",
    "print(np.split(x, (3, 4)))"
   ]
  },
  {
   "cell_type": "markdown",
   "metadata": {},
   "source": [
    "[Learn more about stacking and splitting arrays here.](https://numpy.org/doc/stable/user/quickstart.html#quickstart-stacking-arrays)"
   ]
  },
  {
   "cell_type": "markdown",
   "metadata": {},
   "source": [
    "[Basic Array Operations](https://numpy.org/doc/stable/user/absolute_beginners.html#basic-array-operations)\\\n",
    "[Broadcasting](https://numpy.org/doc/stable/user/absolute_beginners.html#broadcasting)\\\n",
    "[More useful array operations](https://numpy.org/doc/stable/user/absolute_beginners.html#more-useful-array-operations)"
   ]
  },
  {
   "cell_type": "markdown",
   "metadata": {},
   "source": [
    "---\n",
    "\n",
    "# Information about the author:\n",
    "\n",
    "- **Author**: Muhammad Fareed Khan\n",
    "- **Code Submission Date**: 16-12-2023\n",
    "- **Author's Contact Info**:\n",
    "  \n",
    "    - Email: [Email](mailto:contact@mfareedkhan.com)\n",
    "    - Github: [Github](https://github.com/fareedkhands)\n",
    "    - Kaggle: [Kaggle](https://www.kaggle.com/muhammadfareedkhan)\n",
    "    - LinkedIn: [LinkedIn](https://www.linkedin.com/in/fareed-khan-385b79150/)\n",
    "    - Twitter: [Twitter](https://twitter.com/fareedkhanmeyo)\n"
   ]
  }
 ],
 "metadata": {
  "kernelspec": {
   "display_name": "python_eda",
   "language": "python",
   "name": "python3"
  },
  "language_info": {
   "codemirror_mode": {
    "name": "ipython",
    "version": 3
   },
   "file_extension": ".py",
   "mimetype": "text/x-python",
   "name": "python",
   "nbconvert_exporter": "python",
   "pygments_lexer": "ipython3",
   "version": "3.11.5"
  }
 },
 "nbformat": 4,
 "nbformat_minor": 2
}
