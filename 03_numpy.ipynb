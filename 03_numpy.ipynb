{
 "cells": [
  {
   "cell_type": "markdown",
   "metadata": {},
   "source": [
    "# **Creating Metrices:**\n",
    "- 2D array is a matrix"
   ]
  },
  {
   "cell_type": "code",
   "execution_count": 1,
   "metadata": {},
   "outputs": [],
   "source": [
    "import numpy as np"
   ]
  },
  {
   "cell_type": "code",
   "execution_count": 8,
   "metadata": {},
   "outputs": [
    {
     "name": "stdout",
     "output_type": "stream",
     "text": [
      "[[1 2]\n",
      " [3 4]\n",
      " [5 6]]\n",
      "(3, 2)\n"
     ]
    }
   ],
   "source": [
    "a = np.array([[1, 2], [3, 4], [5, 6]]) # 3x2 (3 rows, 2 columns)\n",
    "print(a)\n",
    "print(a.shape) # (3, 2)"
   ]
  },
  {
   "cell_type": "code",
   "execution_count": 11,
   "metadata": {},
   "outputs": [
    {
     "name": "stdout",
     "output_type": "stream",
     "text": [
      "[[1 2 3]\n",
      " [4 5 6]]\n",
      "(2, 3)\n"
     ]
    }
   ],
   "source": [
    "# create a 2x3 matrix:\n",
    "b = np.array([[1, 2, 3], [4, 5, 6]]) # 2x3 (2 rows, 3 columns)\n",
    "print(b)\n",
    "print(b.shape)   # (2, 3)\n"
   ]
  },
  {
   "cell_type": "code",
   "execution_count": 13,
   "metadata": {},
   "outputs": [
    {
     "name": "stdout",
     "output_type": "stream",
     "text": [
      "[[ 1  2  3  4  5  6  7  8  9 10]\n",
      " [11 12 13 14 15 16 17 18 19 20]]\n"
     ]
    }
   ],
   "source": [
    "# create a matrix of big dimensions:\n",
    "c = np.array([[1, 2, 3, 4, 5, 6, 7, 8, 9, 10],\n",
    "              [11, 12, 13, 14, 15, 16, 17, 18, 19, 20]])\n",
    "print(c)"
   ]
  },
  {
   "cell_type": "code",
   "execution_count": 21,
   "metadata": {},
   "outputs": [
    {
     "name": "stdout",
     "output_type": "stream",
     "text": [
      "[ 0  2  4  6  8 10 12 14 16 18 20 22 24 26 28 30 32 34 36 38 40 42 44 46\n",
      " 48 50 52 54 56 58 60 62 64 66 68 70 72 74 76 78 80 82 84 86 88 90 92 94\n",
      " 96 98]\n",
      "------------------\n",
      "1\n",
      "(50,)\n",
      "------------------\n",
      "[[ 0  2  4  6  8 10 12 14 16 18]\n",
      " [20 22 24 26 28 30 32 34 36 38]\n",
      " [40 42 44 46 48 50 52 54 56 58]\n",
      " [60 62 64 66 68 70 72 74 76 78]\n",
      " [80 82 84 86 88 90 92 94 96 98]]\n",
      "2\n"
     ]
    }
   ],
   "source": [
    "# create a matrix\n",
    "b = np.arange(0, 100, 2) # (start, stop, step) \n",
    "print(b) \n",
    "print('------------------')\n",
    "print(b.ndim) # 1 dimension\n",
    "# it's an array but not a matrix\n",
    "# an array must be 2 dimensional for it to be a matrix\n",
    "# to make it a matrix, use reshape\n",
    "\n",
    "print(b.shape) # (50,) means 50 rows and 1 column\n",
    "\n",
    "print('------------------')\n",
    "\n",
    "print(b.reshape(5,10)) # reshape to 5 rows and 10 columns\n",
    "print(b.reshape(5,10).ndim) # 2 dimensions = matrix"
   ]
  },
  {
   "cell_type": "markdown",
   "metadata": {},
   "source": [
    "#### **`Indexing` and `slicing` operations are useful when you’re manipulating matrices:**\n",
    "**Indexing**: This is used to access a specific element in the matrix. \n",
    "- You provide an integer index for each dimension of the matrix to pinpoint the exact element you want. \n",
    "- For example: \n",
    "  - `matrix[1, 2]` would get the element at the second row and third column. \n",
    "  - Remember that Python uses 0-based indexing, so the first element is at index 0.\n",
    "\n",
    "**Slicing**: \n",
    "- This is used to access a subset of the matrix. \n",
    "- Instead of providing a single integer for each dimension, you provide a range in the form `start:stop:step` to get multiple elements.\n",
    "- For example: \n",
    "  - `matrix[1:3, 2:4]` would get a submatrix consisting of the second and third rows and the third and fourth columns.\n",
    "\n",
    "Here's an example to illustrate the difference:"
   ]
  },
  {
   "cell_type": "markdown",
   "metadata": {},
   "source": [
    "- Difference between indexing & slicing:"
   ]
  },
  {
   "cell_type": "code",
   "execution_count": 26,
   "metadata": {},
   "outputs": [
    {
     "name": "stdout",
     "output_type": "stream",
     "text": [
      "6\n",
      "[[5 6]\n",
      " [8 9]]\n"
     ]
    }
   ],
   "source": [
    "# Create a 2D array\n",
    "matrix = np.array([[1, 2, 3], [4, 5, 6], [7, 8, 9]])\n",
    "\n",
    "# Indexing\n",
    "print(matrix[1, 2])  # 1 means 2nd row, 2 means 3rd column\n",
    "\n",
    "# Slicing\n",
    "print(matrix[1:3, 1:3]) # 1:3 means 2nd and 3rd row, 1:3 means 2nd and 3rd column\n"
   ]
  },
  {
   "cell_type": "code",
   "execution_count": 24,
   "metadata": {},
   "outputs": [
    {
     "name": "stdout",
     "output_type": "stream",
     "text": [
      "[[ 0  2  4  6  8 10 12 14 16 18]\n",
      " [20 22 24 26 28 30 32 34 36 38]\n",
      " [40 42 44 46 48 50 52 54 56 58]\n",
      " [60 62 64 66 68 70 72 74 76 78]\n",
      " [80 82 84 86 88 90 92 94 96 98]]\n"
     ]
    }
   ],
   "source": [
    "#1 defining a matrix:\n",
    "c = np.arange(0, 100, 2).reshape(5,10)\n",
    "print(c)"
   ]
  },
  {
   "cell_type": "code",
   "execution_count": 25,
   "metadata": {},
   "outputs": [
    {
     "name": "stdout",
     "output_type": "stream",
     "text": [
      "[[26 28]\n",
      " [46 48]]\n"
     ]
    }
   ],
   "source": [
    "#2 slicing a matrix of 3 rows and 2 columns\n",
    "print(c[1:3, 3:5]) # 1:3 means 2nd and 3rd row, 3:5 means 4th and 5th column\n",
    "\n",
    "# c[:,:] means all rows and all columns"
   ]
  },
  {
   "cell_type": "markdown",
   "metadata": {},
   "source": [
    "#### **Key Points:**\n",
    "- The code `print(c[1:3, 3:5])` is slicing `c`.\n",
    "\n",
    "`1:3 is the slice for the rows`. \n",
    "  - It selects rows with index 1 and 2. \n",
    "\n",
    "`3:5 is the slice for the columns`. \n",
    "- It selects columns with index 3 and 4, which are the fourth and fifth columns of the matrix.\n",
    "\n",
    "So, `c[1:3, 3:5]` creates a new 2D array that consists of the **`second and third rows`** and the **`fourth and fifth columns`** of `c`. \n",
    "\n",
    "> Note that the `stop value` in a slice is `exclusive`, so `1:3` includes indices 1 and 2, but not 3. Similarly, `3:5` includes indices 3 and 4, but not 5."
   ]
  },
  {
   "cell_type": "markdown",
   "metadata": {},
   "source": [
    "You can aggregate matrices the same way you aggregated vectors:"
   ]
  },
  {
   "cell_type": "code",
   "execution_count": 39,
   "metadata": {},
   "outputs": [
    {
     "name": "stdout",
     "output_type": "stream",
     "text": [
      "98\n",
      "0\n",
      "49.0\n",
      "2450\n",
      "28.861739379323623\n",
      "833.0\n"
     ]
    }
   ],
   "source": [
    "print(c.max())  # maximum\n",
    "print(c.min())  # minimum\n",
    "print(c.mean()) # average\n",
    "print(c.sum())  # sum of all elements\n",
    "print(c.std())  # standard deviation\n",
    "print(c.var())  # variance"
   ]
  },
  {
   "cell_type": "code",
   "execution_count": 33,
   "metadata": {},
   "outputs": [
    {
     "data": {
      "text/plain": [
       "array([[ 0,  2,  4,  6,  8, 10, 12, 14, 16, 18],\n",
       "       [20, 22, 24, 26, 28, 30, 32, 34, 36, 38],\n",
       "       [40, 42, 44, 46, 48, 50, 52, 54, 56, 58],\n",
       "       [60, 62, 64, 66, 68, 70, 72, 74, 76, 78],\n",
       "       [80, 82, 84, 86, 88, 90, 92, 94, 96, 98]])"
      ]
     },
     "execution_count": 33,
     "metadata": {},
     "output_type": "execute_result"
    }
   ],
   "source": [
    "c"
   ]
  },
  {
   "cell_type": "code",
   "execution_count": 45,
   "metadata": {},
   "outputs": [
    {
     "name": "stdout",
     "output_type": "stream",
     "text": [
      "[80 82 84 86 88 90 92 94 96 98]\n",
      "------------------\n",
      "[18 38 58 78 98]\n"
     ]
    }
   ],
   "source": [
    "print(c.max(axis=0)) # max(axis=0) means max value for each column\n",
    "print('------------------')\n",
    "print(c.max(axis=1)) # max(axis=1) means max value for each row"
   ]
  },
  {
   "cell_type": "markdown",
   "metadata": {},
   "source": [
    "When `max` function used with the `axis` parameter, it finds the maximum values along a specified axis.\n",
    "\n",
    "`c.max(axis=0)`: \n",
    "- This finds the maximum value in each column of the array `c`. \n",
    "- The `axis=0` parameter means that the operation is performed along the first dimension of the array (i.e., vertically). \n",
    "- If `c is a 2D array`, the result will be a 1D array with the same number of elements as the number of columns in `c`.\n",
    "\n",
    "`c.max(axis=1)`: \n",
    "- This finds the maximum value in each row of the array `c`. \n",
    "- The `axis=1` parameter means that the operation is performed along the second dimension of the array (i.e., horizontally). \n",
    "- If `c is a 2D array`, the result will be a 1D array with the same number of elements as the number of rows in `c`."
   ]
  },
  {
   "cell_type": "code",
   "execution_count": 46,
   "metadata": {},
   "outputs": [
    {
     "data": {
      "text/plain": [
       "array([[ 0,  2],\n",
       "       [ 4,  6],\n",
       "       [ 8, 10],\n",
       "       [12, 14],\n",
       "       [16, 18]])"
      ]
     },
     "execution_count": 46,
     "metadata": {},
     "output_type": "execute_result"
    }
   ],
   "source": [
    "d = np.arange(0,20,2).reshape(5,2)\n",
    "d"
   ]
  },
  {
   "cell_type": "markdown",
   "metadata": {},
   "source": [
    "Addition and Multiplication of matrices and arrays:"
   ]
  },
  {
   "cell_type": "code",
   "execution_count": 60,
   "metadata": {},
   "outputs": [
    {
     "name": "stdout",
     "output_type": "stream",
     "text": [
      "[[20 24]\n",
      " [24 28]\n",
      " [28 32]\n",
      " [32 36]\n",
      " [36 40]]\n",
      "[[ 2  4]\n",
      " [ 6  8]\n",
      " [10 12]\n",
      " [14 16]\n",
      " [18 20]]\n",
      "------------------\n",
      "[[  0  44]\n",
      " [ 80 132]\n",
      " [160 220]\n",
      " [240 308]\n",
      " [320 396]]\n",
      "[[ 0  4]\n",
      " [ 8 12]\n",
      " [16 20]\n",
      " [24 28]\n",
      " [32 36]]\n",
      "------------------\n",
      "[[0.         0.09090909]\n",
      " [0.2        0.27272727]\n",
      " [0.4        0.45454545]\n",
      " [0.6        0.63636364]\n",
      " [0.8        0.81818182]]\n",
      "[[0. 1.]\n",
      " [2. 3.]\n",
      " [4. 5.]\n",
      " [6. 7.]\n",
      " [8. 9.]]\n"
     ]
    }
   ],
   "source": [
    "# Addition and Multiplication of matrices and arrays:\n",
    "print(d + np.array([20, 22]))   # add 20 to 1st column, add 22 to 2nd column\n",
    "print(d + 2) # adding 2 to all elements\n",
    "print('------------------')\n",
    "print(d * np.array([20, 22]))   # multiply 20 to 1st column, multiply 22 to 2nd column\n",
    "print(d * 2) # multiply all elements by 2\n",
    "print('------------------')\n",
    "print(d / np.array([20, 22]))   # multiply 20 to 1st column, multiply 22 to 2nd column\n",
    "print(d/2) # divide all elements by 2"
   ]
  },
  {
   "cell_type": "markdown",
   "metadata": {},
   "source": [
    "Adding a Row inside the original column:"
   ]
  },
  {
   "cell_type": "code",
   "execution_count": 56,
   "metadata": {},
   "outputs": [
    {
     "data": {
      "text/plain": [
       "array([[ 0,  2],\n",
       "       [ 4,  6],\n",
       "       [ 8, 10],\n",
       "       [12, 14],\n",
       "       [16, 18],\n",
       "       [42, 44]])"
      ]
     },
     "execution_count": 56,
     "metadata": {},
     "output_type": "execute_result"
    }
   ],
   "source": [
    "# Adding Row at the bottom of the matrix:\n",
    "np.vstack((d, np.array([42,44]))) # add a row [42,44] to the bottom of the matrix"
   ]
  },
  {
   "cell_type": "code",
   "execution_count": 57,
   "metadata": {},
   "outputs": [
    {
     "data": {
      "text/plain": [
       "array([[ 0,  2,  4,  6,  8, 10, 12, 14, 16, 18],\n",
       "       [20, 22, 24, 26, 28, 30, 32, 34, 36, 38],\n",
       "       [40, 42, 44, 46, 48, 50, 52, 54, 56, 58],\n",
       "       [60, 62, 64, 66, 68, 70, 72, 74, 76, 78],\n",
       "       [80, 82, 84, 86, 88, 90, 92, 94, 96, 98]])"
      ]
     },
     "execution_count": 57,
     "metadata": {},
     "output_type": "execute_result"
    }
   ],
   "source": [
    "c"
   ]
  },
  {
   "cell_type": "code",
   "execution_count": 61,
   "metadata": {},
   "outputs": [
    {
     "data": {
      "text/plain": [
       "array([[98, 96, 94, 92, 90, 88, 86, 84, 82, 80],\n",
       "       [78, 76, 74, 72, 70, 68, 66, 64, 62, 60],\n",
       "       [58, 56, 54, 52, 50, 48, 46, 44, 42, 40],\n",
       "       [38, 36, 34, 32, 30, 28, 26, 24, 22, 20],\n",
       "       [18, 16, 14, 12, 10,  8,  6,  4,  2,  0]])"
      ]
     },
     "execution_count": 61,
     "metadata": {},
     "output_type": "execute_result"
    }
   ],
   "source": [
    "np.flip(c) # flip the matrix upside down"
   ]
  }
 ],
 "metadata": {
  "kernelspec": {
   "display_name": "python_eda",
   "language": "python",
   "name": "python3"
  },
  "language_info": {
   "codemirror_mode": {
    "name": "ipython",
    "version": 3
   },
   "file_extension": ".py",
   "mimetype": "text/x-python",
   "name": "python",
   "nbconvert_exporter": "python",
   "pygments_lexer": "ipython3",
   "version": "3.11.5"
  }
 },
 "nbformat": 4,
 "nbformat_minor": 2
}
