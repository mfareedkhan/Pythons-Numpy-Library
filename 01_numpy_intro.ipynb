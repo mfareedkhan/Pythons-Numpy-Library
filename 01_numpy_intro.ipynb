{
 "cells": [
  {
   "cell_type": "markdown",
   "metadata": {},
   "source": [
    "# **Numpy Introduction:**\n",
    "Numpy Website: [Website Link](https//numpy.org/)\\\n",
    "Numpy Documentation: [Documentation Link](https://numpy.org/doc/stable/)\\\n",
    "Numpy Beginner Guide: [Guide Link](https://numpy.org/doc/stable/user/absolute_beginners.html)\\\n",
    "\n",
    "> NumPy is a powerful numerical computing library in Python that provides support for large, multi-dimensional arrays and matrices, along with a collection of high-level mathematical functions to operate on these arrays. \n",
    "\n",
    "- **NumPy Basics:**\n",
    "- NumPy stands for `Numerical Python`, and it is an essential library for `numerical computing` in Python.\n",
    "- It introduces a new data structure called \"`NumPy arrays`\" that are more efficient for numerical operations than `Python lists`.\n",
    "\n",
    "### **Key Features:** \n",
    "\n",
    "1. **Multidimensional Arrays:**\n",
    "- NumPy provides support for multidimensional arrays, which can be 1-dimensional, 2-dimensional, or even more.\n",
    "2. **Element-Wise Operations:**\n",
    "- NumPy allows for element-wise operations, making it efficient for mathematical and logical operations on arrays.\n",
    "3. **Broadcasting:** \n",
    "- NumPy automatically handles operations between arrays of different shapes and sizes through a mechanism called broadcasting.\n",
    "\n",
    "### **Functionalities:**\n",
    "\n",
    "1. **Array Creation and Manipulation:**\n",
    "- NumPy provides functions to create arrays from Python lists or other existing arrays.\n",
    "- Array manipulation functions allow reshaping, stacking, and splitting arrays.\n",
    "2. **Mathematical Operations:**\n",
    "- NumPy provides a wide range of mathematical functions for operations like addition, subtraction, multiplication, and more.\n",
    "- These operations can be performed element-wise or on entire arrays.\n",
    "3. **Linear Algebra:**\n",
    "- NumPy includes a comprehensive set of functions for linear algebra operations, such as matrix multiplication, eigenvalue decomposition, and solving linear systems.\n",
    "4. **Random Number Generation:**\n",
    "- NumPy has a robust random module for generating random numbers, distributions, and permutations.\n",
    "5. **Statistical Operations:**\n",
    "- NumPy provides functions for various statistical operations, including mean, median, standard deviation, and correlation.\n",
    "6. **Indexing and Slicing:**\n",
    "- NumPy supports advanced indexing techniques, including boolean indexing and fancy indexing, making it flexible for selecting and manipulating data.\n",
    "### **Applications:**\n",
    "\n",
    "1. **Scientific Computing:**\n",
    "- NumPy is widely used in scientific and engineering applications for numerical simulations and data analysis.\n",
    "2. **Machine Learning:** \n",
    "- Many machine learning frameworks, such as TensorFlow and scikit-learn, rely on NumPy for efficient numerical computations.\n",
    "3. **Data Analysis:**\n",
    "- NumPy is a fundamental tool in data analysis and manipulation, often used in conjunction with pandas, another popular data manipulation library in Python.\n",
    "4. **Signal Processing:**\n",
    "- It's used for tasks like image processing and signal processing due to its efficient array operations.\n",
    "5. **Community and Ecosystem:**\n",
    "- NumPy has a large and active community, contributing to its continuous improvement and development.\n",
    "- It is a fundamental building block for many other scientific computing libraries in Python."
   ]
  },
  {
   "cell_type": "markdown",
   "metadata": {},
   "source": [
    "### **What is an array?**"
   ]
  },
  {
   "cell_type": "markdown",
   "metadata": {},
   "source": [
    "- An array is a data structure in programming that stores a collection of elements, typically of the same data type, in a contiguous block of memory. It is a fundamental concept in many programming languages, including Python, and is used extensively in scientific computing, data analysis, and machine learning. \n",
    "\n",
    "- In Python, the NumPy library provides support for arrays and enables efficient numerical operations on them. NumPy arrays are more efficient than Python lists for numerical operations because they are implemented in C and allow for vectorized operations.\n",
    "- `We convert images, audios etc into numbers (arrays) and apply algorithms on it`."
   ]
  },
  {
   "cell_type": "markdown",
   "metadata": {},
   "source": [
    "### **Install Numpy:**"
   ]
  },
  {
   "cell_type": "code",
   "execution_count": 1,
   "metadata": {},
   "outputs": [],
   "source": [
    "# Insatll numpy:\n",
    "# pip3 install numpy\n",
    "# conda install numpy"
   ]
  },
  {
   "cell_type": "markdown",
   "metadata": {},
   "source": [
    "### **Import Numpy:**"
   ]
  },
  {
   "cell_type": "code",
   "execution_count": 2,
   "metadata": {},
   "outputs": [],
   "source": [
    "# Import numpy:\n",
    "import numpy as np"
   ]
  },
  {
   "cell_type": "markdown",
   "metadata": {},
   "source": [
    "### **1-D Array**:\n",
    "- These are the `simplest form of arrays` and are often used to store and manipulate data like lists. \n",
    "- They are particularly useful when dealing with `sequential data` or when performing `mathematical operations` that can be `vectorized`."
   ]
  },
  {
   "cell_type": "code",
   "execution_count": 3,
   "metadata": {},
   "outputs": [
    {
     "name": "stdout",
     "output_type": "stream",
     "text": [
      "[0 1 2 3 4 5]\n"
     ]
    },
    {
     "data": {
      "text/plain": [
       "(6,)"
      ]
     },
     "execution_count": 3,
     "metadata": {},
     "output_type": "execute_result"
    }
   ],
   "source": [
    "a = np.arange(6)\n",
    "# 1-D array \n",
    "\n",
    "print(a)\n",
    "a.shape\n",
    "# Shape of array"
   ]
  },
  {
   "cell_type": "markdown",
   "metadata": {},
   "source": [
    "- `6 elements` from 0 to 5"
   ]
  },
  {
   "cell_type": "markdown",
   "metadata": {},
   "source": [
    "### **2-D Arrays:** \n",
    "- These are often used to represent `matrix-like data structures`, like images (grayscale images), spreadsheets, or adjacency matrices in graph theory. \n",
    "- In `machine learning`, 2D arrays are often used to represent datasets where each `row` is a `sample` and each `column` is a `feature` of the sample."
   ]
  },
  {
   "cell_type": "code",
   "execution_count": 4,
   "metadata": {},
   "outputs": [
    {
     "name": "stdout",
     "output_type": "stream",
     "text": [
      "[[0 1 2 3 4 5]]\n"
     ]
    },
    {
     "data": {
      "text/plain": [
       "(1, 6)"
      ]
     },
     "execution_count": 4,
     "metadata": {},
     "output_type": "execute_result"
    }
   ],
   "source": [
    "a2 = a[np.newaxis,  :]\n",
    "# Add a new axis to an array at the specified index (axis)\n",
    "\n",
    "print(a2)\n",
    "\n",
    "# shape of array\n",
    "a2.shape"
   ]
  },
  {
   "cell_type": "markdown",
   "metadata": {},
   "source": [
    "#### **Key Points**:\n",
    "---\n",
    "- `[[]]` shows 2-D array \n",
    "- 1st axis = 1 row \n",
    "- 2nd axis = 6 columns\n",
    "- `1 row and 6 columns` "
   ]
  },
  {
   "cell_type": "code",
   "execution_count": 5,
   "metadata": {},
   "outputs": [
    {
     "name": "stdout",
     "output_type": "stream",
     "text": [
      "[[0]\n",
      " [1]\n",
      " [2]\n",
      " [3]\n",
      " [4]\n",
      " [5]]\n"
     ]
    },
    {
     "data": {
      "text/plain": [
       "(6, 1)"
      ]
     },
     "execution_count": 5,
     "metadata": {},
     "output_type": "execute_result"
    }
   ],
   "source": [
    "a2 = a[ : , np.newaxis]\n",
    "# Add a new axis to an array at the specified index (axis)\n",
    "\n",
    "print(a2)\n",
    "\n",
    "# shape of array\n",
    "a2.shape"
   ]
  },
  {
   "cell_type": "markdown",
   "metadata": {},
   "source": [
    "- `1 column` & `6 rows`"
   ]
  },
  {
   "cell_type": "markdown",
   "metadata": {},
   "source": [
    "### **3-D arrays:** \n",
    "- These are used when dealing with `volumes` or when each data point is represented as a `matrix` itself. \n",
    "- For example, in `computer vision`, `color images` are often represented as 3D arrays (height, width, color channels). \n",
    "- In `natural language processing`, a batch of sentences might be represented as a 3D array (batch size, sentence length, word vector size).\n",
    "\n",
    "**In summary, the dimensionality of the array you use in data science largely depends on the nature of your data and the problem you're trying to solve.**"
   ]
  },
  {
   "cell_type": "code",
   "execution_count": 6,
   "metadata": {},
   "outputs": [
    {
     "name": "stdout",
     "output_type": "stream",
     "text": [
      "[[[0]\n",
      "  [1]\n",
      "  [2]\n",
      "  [3]\n",
      "  [4]\n",
      "  [5]]]\n"
     ]
    },
    {
     "data": {
      "text/plain": [
       "(1, 6, 1)"
      ]
     },
     "execution_count": 6,
     "metadata": {},
     "output_type": "execute_result"
    }
   ],
   "source": [
    "a3 = a2[np.newaxis, :]\n",
    "# Add a new axis to an array at the specified index (axis)\n",
    "\n",
    "print(a3)\n",
    "a3.shape"
   ]
  },
  {
   "cell_type": "markdown",
   "metadata": {},
   "source": [
    "#### Key Points:\n",
    "---\n",
    "- `[[[]]]` shows 3-D array \n",
    "- `1 row` and `1 column` and `6 elements` in each row and column "
   ]
  },
  {
   "cell_type": "markdown",
   "metadata": {},
   "source": [
    "---"
   ]
  },
  {
   "cell_type": "markdown",
   "metadata": {},
   "source": [
    "# **Creating Arrays with Numpy:**"
   ]
  },
  {
   "cell_type": "markdown",
   "metadata": {},
   "source": [
    "#### **1D & 2D Arrays**:"
   ]
  },
  {
   "cell_type": "code",
   "execution_count": 7,
   "metadata": {},
   "outputs": [
    {
     "name": "stdout",
     "output_type": "stream",
     "text": [
      "[1 2 3 4 5 6 7]\n",
      "(7,)\n",
      "[[ 1  2  3  4  5  6  7]\n",
      " [ 4  5  6  7  8  9 10]]\n",
      "(2, 7)\n"
     ]
    }
   ],
   "source": [
    "a = np.array([1, 2, 3, 4, 5, 6, 7])\n",
    "# a is a 1-D array\n",
    "\n",
    "b = np.array([(1, 2, 3, 4, 5, 6, 7), (4, 5, 6, 7, 8, 9, 10)])\n",
    "# b is a 2-D array\n",
    "\n",
    "print(a)\n",
    "print(a.shape)\n",
    "print(b)\n",
    "print(b.shape)"
   ]
  },
  {
   "cell_type": "code",
   "execution_count": 8,
   "metadata": {},
   "outputs": [
    {
     "data": {
      "text/plain": [
       "numpy.ndarray"
      ]
     },
     "execution_count": 8,
     "metadata": {},
     "output_type": "execute_result"
    }
   ],
   "source": [
    "# type of array(a):\n",
    "type(a) "
   ]
  },
  {
   "cell_type": "markdown",
   "metadata": {},
   "source": [
    "- `ndarray` = n dimensional array"
   ]
  },
  {
   "cell_type": "code",
   "execution_count": 9,
   "metadata": {},
   "outputs": [
    {
     "data": {
      "text/plain": [
       "dtype('int32')"
      ]
     },
     "execution_count": 9,
     "metadata": {},
     "output_type": "execute_result"
    }
   ],
   "source": [
    "# data type of array(a) elements:\n",
    "a.dtype "
   ]
  },
  {
   "cell_type": "code",
   "execution_count": 10,
   "metadata": {},
   "outputs": [
    {
     "data": {
      "text/plain": [
       "numpy.ndarray"
      ]
     },
     "execution_count": 10,
     "metadata": {},
     "output_type": "execute_result"
    }
   ],
   "source": [
    "# type of array(b):\n",
    "type(b)"
   ]
  },
  {
   "cell_type": "markdown",
   "metadata": {},
   "source": [
    "- `ndarray` = n dimensional array"
   ]
  },
  {
   "cell_type": "code",
   "execution_count": 11,
   "metadata": {},
   "outputs": [
    {
     "data": {
      "text/plain": [
       "dtype('int32')"
      ]
     },
     "execution_count": 11,
     "metadata": {},
     "output_type": "execute_result"
    }
   ],
   "source": [
    "# data type of array(b) elements:\n",
    "b.dtype"
   ]
  },
  {
   "cell_type": "markdown",
   "metadata": {},
   "source": [
    "# **Initialize Arrays:**"
   ]
  },
  {
   "cell_type": "markdown",
   "metadata": {},
   "source": [
    "#### **1. `zeros` function**:\n",
    "- A `zeros array can` also be referred to as a ~, especially when it's `two-dimensional`.\n",
    "- In NumPy, a zeros array is an array that is filled with the `value 0`. You can create a zeros array of any shape using the `numpy.zeros()` function. \n",
    "> It's **important to note** that while a zeros matrix is a type of zeros array, `not all zeros arrays are zeros matrices`. \n",
    "> This is because arrays in NumPy can have any number of dimensions, while matrices are typically two-dimensional. For example, `numpy.zeros((3, 3, 3))` creates a 3D zeros array, which wouldn't typically be referred to as a matrix.\n",
    "\n",
    "**Uses of zeros array:**\n",
    "\n",
    "`1. Initializing arrays:` \n",
    "- Zeros arrays are often used to initialize an array before filling it with actual values. This is especially common in machine learning and computer graphics.\n",
    "\n",
    "`2. Resetting or clearing data: `\n",
    "- If you have an existing array and you want to reset all its values to zero, you can simply replace it with a zeros array of the same shape.\n",
    "\n",
    "`3. Padding data:` \n",
    "- In data processing, it's common to need to pad an array with zeros to make it fit a certain shape. For example, in image processing, you might need to pad an image with zeros to make it square.\n",
    "\n",
    "`4. Creating masks for image processing:` \n",
    "- In image processing, a zeros array of the same size as the image can be used to create a mask that blocks all pixels.\n",
    "\n",
    "`5. Performing operations over an entire array:` \n",
    "- If you need to subtract an array from itself, or multiply it by zero, you can use a zeros array to do this efficiently.\n",
    "\n",
    "`6. Creating a placeholder for data:` \n",
    "- If you're loading data in chunks, you can create a zeros array of the full size you expect, and then fill in each chunk as you load it. This can be more efficient than concatenating arrays."
   ]
  },
  {
   "cell_type": "code",
   "execution_count": 12,
   "metadata": {},
   "outputs": [
    {
     "data": {
      "text/plain": [
       "array([[0., 0., 0., 0., 0.],\n",
       "       [0., 0., 0., 0., 0.],\n",
       "       [0., 0., 0., 0., 0.]])"
      ]
     },
     "execution_count": 12,
     "metadata": {},
     "output_type": "execute_result"
    }
   ],
   "source": [
    "# zeros array:\n",
    "zeros = np.zeros((3, 5)) # (rows, columns)\n",
    "zeros  # print zeros array"
   ]
  },
  {
   "cell_type": "code",
   "execution_count": 13,
   "metadata": {},
   "outputs": [
    {
     "data": {
      "text/plain": [
       "dtype('float64')"
      ]
     },
     "execution_count": 13,
     "metadata": {},
     "output_type": "execute_result"
    }
   ],
   "source": [
    "# data type of array(zeros) elements:\n",
    "zeros.dtype"
   ]
  },
  {
   "cell_type": "markdown",
   "metadata": {},
   "source": [
    "#### **2. `ones` function**:\n",
    "- A ones array can also be referred to as a ones matrix, especially when it's two-dimensional.\n",
    "- In NumPy, a ones array is an array that is filled with the `value 1`. \n",
    "- You can create a ones array of any shape using the `numpy.ones()` function. \n",
    "\n",
    "> Just like with zeros arrays, while a ones matrix is a type of ones array, not all ones arrays are ones matrices. This is because arrays in NumPy can have any number of dimensions, while matrices are typically two-dimensional.\n",
    "\n",
    "**Uses of ones array:** \n",
    "\n",
    "`1. Initializing weights in machine learning algorithms: `\n",
    "- In some machine learning algorithms, it's common to initialize the weights to 1 before training starts.\n",
    "\n",
    "`2. Creating masks for image processing: `\n",
    "- In image processing, a ones array of the same size as the image can be used to create a mask that allows all pixels to pass through.\n",
    "\n",
    "`3. Performing operations over an entire array:` \n",
    "- If you need to add, multiply, or perform some other operation on all elements of an array, you can use a ones array to do this efficiently.\n",
    "\n",
    "`4. Creating an array with a specific value:` \n",
    "- If you need an array filled with a specific value, you can create a ones array and then multiply it by that value. \n",
    "- For example, `numpy.ones((3, 3)) * 5` creates a 3x3 array filled with the number 5."
   ]
  },
  {
   "cell_type": "code",
   "execution_count": 14,
   "metadata": {},
   "outputs": [
    {
     "data": {
      "text/plain": [
       "array([[1., 1., 1., 1., 1.],\n",
       "       [1., 1., 1., 1., 1.],\n",
       "       [1., 1., 1., 1., 1.]])"
      ]
     },
     "execution_count": 14,
     "metadata": {},
     "output_type": "execute_result"
    }
   ],
   "source": [
    "# ones array:\n",
    "ones = np.ones((3, 5))\n",
    "ones  # print ones array"
   ]
  },
  {
   "cell_type": "code",
   "execution_count": 15,
   "metadata": {},
   "outputs": [
    {
     "data": {
      "text/plain": [
       "dtype('float64')"
      ]
     },
     "execution_count": 15,
     "metadata": {},
     "output_type": "execute_result"
    }
   ],
   "source": [
    "# data type of array(ones) elements:\n",
    "ones.dtype"
   ]
  },
  {
   "cell_type": "markdown",
   "metadata": {},
   "source": [
    "#### **3. `full` function**:\n",
    "- A full array can also be referred to as a full matrix, especially when it's two-dimensional.\n",
    "- In NumPy, a full array is an array that is filled with a `specified value`. You can create a full array of any shape using the `numpy.full()` function. \n",
    "- For example, `numpy.full((3, 3), 7)` will create a 3x3 full matrix (a 2D array filled with the number 7).\n",
    "\n",
    "> Just like with zeros and ones arrays, while a full matrix is a type of full array, not all full arrays are full matrices. This is because arrays in NumPy can have any number of dimensions, while matrices are typically two-dimensional.\n",
    "\n",
    "A full array is useful when you need an array of a certain size that is filled with a specific value. This can be more efficient than creating a zeros or ones array and then multiplying or adding to get the desired value.\n",
    "\n",
    "**Uses of full array:**\n",
    "\n",
    "`1. Initializing arrays with a specific value:` \n",
    "- Full arrays are often used to initialize an array with a specific value before filling it with actual values. This is common in various fields including machine learning and data analysis.\n",
    "\n",
    "`2. Creating constant arrays for calculations:` \n",
    "- If you need an array of a certain size that is filled with a specific constant value for calculations, you can use a full array. For example, you might need an array filled with the value of pi or e for mathematical computations.\n",
    "\n",
    "`3. Creating masks for data processing:` \n",
    "- In data processing, a full array of the same size as your data can be used to create a mask that allows or blocks certain values.\n",
    "\n",
    "`4. Performing operations over an entire array:` \n",
    "- If you need to add, subtract, multiply, or divide an entire array by a specific value, you can create a full array of that value and then perform the operation.\n",
    "\n",
    "`5. Filling missing data:` \n",
    "- In data analysis, you might have missing data that you want to fill with a specific value. You can create a full array of that value and then use it to fill the missing data.\n",
    "\n",
    "`6. Creating test data:` When writing tests for your code, you might need an array of a certain size that is filled with a known value. A full array is a quick and easy way to create such test data."
   ]
  },
  {
   "cell_type": "code",
   "execution_count": 16,
   "metadata": {},
   "outputs": [
    {
     "data": {
      "text/plain": [
       "array([[7.5, 7.5, 7.5, 7.5, 7.5],\n",
       "       [7.5, 7.5, 7.5, 7.5, 7.5],\n",
       "       [7.5, 7.5, 7.5, 7.5, 7.5]])"
      ]
     },
     "execution_count": 16,
     "metadata": {},
     "output_type": "execute_result"
    }
   ],
   "source": [
    "# full array with a specific/desired value:\n",
    "full = np.full((3, 5), 7.5)\n",
    "# (rows, columns), value\n",
    "# 7.5 is the desired value\n",
    "\n",
    "full # print full array"
   ]
  },
  {
   "cell_type": "code",
   "execution_count": 17,
   "metadata": {},
   "outputs": [
    {
     "data": {
      "text/plain": [
       "dtype('float64')"
      ]
     },
     "execution_count": 17,
     "metadata": {},
     "output_type": "execute_result"
    }
   ],
   "source": [
    "# data type of array(full) elements:\n",
    "full.dtype"
   ]
  },
  {
   "cell_type": "markdown",
   "metadata": {},
   "source": [
    "#### **4. `identity` function:**\n",
    "- An identity array is the same as an identity matrix.\n",
    "- In the context of NumPy, the term \"identity array\" is often used, but mathematically, it's known as an \"identity matrix\".\n",
    "- An identity matrix is a square matrix (same number of rows as columns) with ones on the main diagonal and zeros everywhere else. \n",
    "- It's called an \"identity\" matrix because, when it's multiplied by any other matrix, it doesn't change the other matrix, much like how multiplying a number by one doesn't change the number.\n",
    "> In NumPy, you can create an identity matrix using the `numpy.eye()` or `numpy.identity()` function. For example, `numpy.eye(3)` or `numpy.identity(3)` will create a 3x3 identity matrix.\n",
    "\n",
    "**Uses of Identity Array:**\n",
    "\n",
    "`1. Matrix multiplication:` \n",
    "- The identity matrix is often used in matrix multiplication. When you multiply any matrix by an identity matrix, the original matrix is unchanged. This is similar to multiplying any number by 1; the original number remains the same.\n",
    "\n",
    "`2. Solving systems of linear equations:` \n",
    "- Identity matrices are used in methods for solving systems of linear equations, such as Gaussian elimination or matrix inversion.\n",
    "\n",
    "`3. Initializing matrices in machine learning algorithms:` \n",
    "- In some machine learning algorithms, it's common to initialize the weights to an identity matrix before training starts.\n",
    "\n",
    "`4. Performing transformations in computer graphics:` \n",
    "- In computer graphics, the identity matrix is used as the basis for transformation matrices that move, rotate, and scale shapes.\n",
    "\n",
    "`5. Testing matrix multiplication functions:` \n",
    "- When writing or testing functions that perform matrix multiplication, it's useful to have an identity matrix to check that the function is working correctly. \n",
    "- If you multiply a matrix by an identity matrix using the function, and the original matrix is unchanged, then the function is likely working correctly."
   ]
  },
  {
   "cell_type": "code",
   "execution_count": 18,
   "metadata": {},
   "outputs": [
    {
     "data": {
      "text/plain": [
       "array([[1., 0., 0., 0., 0.],\n",
       "       [0., 1., 0., 0., 0.],\n",
       "       [0., 0., 1., 0., 0.],\n",
       "       [0., 0., 0., 1., 0.],\n",
       "       [0., 0., 0., 0., 1.]])"
      ]
     },
     "execution_count": 18,
     "metadata": {},
     "output_type": "execute_result"
    }
   ],
   "source": [
    "# creating an identity matrix:\n",
    "identity = np.eye(5) \n",
    "identity  # print identity matrix"
   ]
  },
  {
   "cell_type": "code",
   "execution_count": 19,
   "metadata": {},
   "outputs": [
    {
     "data": {
      "text/plain": [
       "dtype('float64')"
      ]
     },
     "execution_count": 19,
     "metadata": {},
     "output_type": "execute_result"
    }
   ],
   "source": [
    "# data type of array(identity) elements:\n",
    "identity.dtype"
   ]
  },
  {
   "cell_type": "markdown",
   "metadata": {},
   "source": [
    "# **Array Attributes:**\n",
    "> Array attributes in NumPy are properties of the array that provide information about its structure and data. \n",
    "\n",
    "**Here are some of the main attributes:**\n",
    "\n",
    "1. **ndarray.ndim**: This attribute returns the number of array dimensions. For example, for a 2D array, `ndim` would be 2.\n",
    "\n",
    "2. **ndarray.shape**: This attribute returns a tuple representing the dimensions (shape) of the array. For example, for a 2D array with 2 rows and 3 columns, `shape` would be (2, 3).\n",
    "\n",
    "3. **ndarray.size**: This attribute returns the total number of elements in the array.\n",
    "\n",
    "4. **ndarray.dtype**: This attribute returns the data type of the array elements.\n",
    "\n",
    "5. **ndarray.itemsize**: This attribute returns the size (in bytes) of each element in the array.\n",
    "\n",
    "6. **ndarray.data**: This attribute is a buffer containing the actual elements of the array.\n",
    "\n",
    "7. **ndarray.nbytes**: This attribute returns the total bytes consumed by the elements of the array.\n",
    "\n",
    "8. **ndarray.strides**: This attribute returns a tuple of bytes to step in each dimension when traversing an array.\n",
    "\n",
    "These attributes provide useful information when you're manipulating and analyzing data with NumPy."
   ]
  },
  {
   "cell_type": "code",
   "execution_count": 21,
   "metadata": {},
   "outputs": [
    {
     "data": {
      "text/plain": [
       "(7,)"
      ]
     },
     "execution_count": 21,
     "metadata": {},
     "output_type": "execute_result"
    }
   ],
   "source": [
    "a.shape # shape of array"
   ]
  },
  {
   "cell_type": "code",
   "execution_count": 20,
   "metadata": {},
   "outputs": [
    {
     "data": {
      "text/plain": [
       "2"
      ]
     },
     "execution_count": 20,
     "metadata": {},
     "output_type": "execute_result"
    }
   ],
   "source": [
    "len(b) # give us the length of array"
   ]
  },
  {
   "cell_type": "code",
   "execution_count": 22,
   "metadata": {},
   "outputs": [
    {
     "data": {
      "text/plain": [
       "14"
      ]
     },
     "execution_count": 22,
     "metadata": {},
     "output_type": "execute_result"
    }
   ],
   "source": [
    "b.size # gives us the total numbers of elements in array"
   ]
  },
  {
   "cell_type": "code",
   "execution_count": 23,
   "metadata": {},
   "outputs": [
    {
     "data": {
      "text/plain": [
       "2"
      ]
     },
     "execution_count": 23,
     "metadata": {},
     "output_type": "execute_result"
    }
   ],
   "source": [
    "b.ndim # give us the dimension of array"
   ]
  },
  {
   "cell_type": "markdown",
   "metadata": {},
   "source": [
    "# **Basic Operations:**\n",
    "NumPy arrays support a variety of operations. Here are some basic ones:\n",
    "\n",
    "1. **Arithmetic Operations**: You can perform element-wise arithmetic operations (`addition, subtraction, multiplication, division`) on arrays of the same size. \n",
    "\n",
    "2. **Scalar Operations**: You can perform arithmetic operations with a scalar (`a single number`) and an array. \n",
    "\n",
    "3. **Comparison Operations**: You can perform element-wise comparison operations on arrays. \n",
    "\n",
    "4. **Matrix Operations**: You can perform matrix operations like `dot product`.\n",
    "\n",
    "5. **Aggregation Functions**: NumPy provides functions to compute statistics of data in arrays.\n",
    "\n",
    "6. **Reshaping**: You can `change` the `number of rows and columns` in an array without changing the data.\n",
    "\n",
    "7. **Indexing and Slicing**: You can access elements in an `array` using `indices`, and you can access `subarrays` using `slices`.\n",
    "\n",
    "These are just a few examples of the operations you can perform with NumPy arrays. There are many more functions and methods available in the NumPy library."
   ]
  },
  {
   "cell_type": "markdown",
   "metadata": {},
   "source": [
    "#### **1. Arithmetic Operations:**"
   ]
  },
  {
   "cell_type": "code",
   "execution_count": 38,
   "metadata": {},
   "outputs": [
    {
     "name": "stdout",
     "output_type": "stream",
     "text": [
      "[5 7 9]\n",
      "[-3 -3 -3]\n",
      "[ 4 10 18]\n",
      "[0.25 0.4  0.5 ]\n",
      "[1 4 9]\n"
     ]
    }
   ],
   "source": [
    "import numpy as np\n",
    "\n",
    "a = np.array([1, 2, 3])\n",
    "b = np.array([4, 5, 6])\n",
    "\n",
    "print(a + b)  # array([5, 7, 9])\n",
    "print(a - b)  # array([-3, -3, -3])\n",
    "print(a * b)  # array([ 4, 10, 18])\n",
    "print(a / b)  # array([0.25, 0.4 , 0.5 ])\n",
    "print(a**2)   # array([1 4 9])"
   ]
  },
  {
   "cell_type": "markdown",
   "metadata": {},
   "source": [
    "#### **2. Scalar Operations:**"
   ]
  },
  {
   "cell_type": "code",
   "execution_count": 32,
   "metadata": {},
   "outputs": [
    {
     "name": "stdout",
     "output_type": "stream",
     "text": [
      "[2 3 4]\n",
      "[2 4 6]\n"
     ]
    }
   ],
   "source": [
    "a = np.array([1, 2, 3])\n",
    "\n",
    "print(a + 1)  # array([2, 3, 4])\n",
    "print(a * 2)  # array([2, 4, 6])"
   ]
  },
  {
   "cell_type": "markdown",
   "metadata": {},
   "source": [
    "#### **3. Comparison  Operations:**"
   ]
  },
  {
   "cell_type": "code",
   "execution_count": 33,
   "metadata": {},
   "outputs": [
    {
     "name": "stdout",
     "output_type": "stream",
     "text": [
      "[ True  True False]\n",
      "[False False  True]\n"
     ]
    }
   ],
   "source": [
    "a = np.array([1, 2, 3])\n",
    "b = np.array([1, 2, 4])\n",
    "\n",
    "print(a == b)  # array([ True,  True, False])\n",
    "print(a < b)   # array([False, False,  True])"
   ]
  },
  {
   "cell_type": "markdown",
   "metadata": {},
   "source": [
    "#### **4. Matrix Operations:**"
   ]
  },
  {
   "cell_type": "code",
   "execution_count": 34,
   "metadata": {},
   "outputs": [
    {
     "name": "stdout",
     "output_type": "stream",
     "text": [
      "[[19 22]\n",
      " [43 50]]\n"
     ]
    }
   ],
   "source": [
    "a = np.array([[1, 2], [3, 4]])\n",
    "b = np.array([[5, 6], [7, 8]])\n",
    "\n",
    "print(np.dot(a, b))  # array([[19, 22], [43, 50]])"
   ]
  },
  {
   "cell_type": "markdown",
   "metadata": {},
   "source": [
    "#### **5. Aggression Functions:**"
   ]
  },
  {
   "cell_type": "code",
   "execution_count": 35,
   "metadata": {},
   "outputs": [
    {
     "name": "stdout",
     "output_type": "stream",
     "text": [
      "10\n",
      "2.5\n",
      "1\n",
      "4\n"
     ]
    }
   ],
   "source": [
    "a = np.array([1, 2, 3, 4])\n",
    "\n",
    "print(np.sum(a))  # 10\n",
    "print(np.mean(a)) # 2.5\n",
    "print(np.min(a))  # 1\n",
    "print(np.max(a))  # 4"
   ]
  },
  {
   "cell_type": "markdown",
   "metadata": {},
   "source": [
    "#### **6. Reshaping:**"
   ]
  },
  {
   "cell_type": "code",
   "execution_count": 36,
   "metadata": {},
   "outputs": [
    {
     "name": "stdout",
     "output_type": "stream",
     "text": [
      "[[1 2]\n",
      " [3 4]]\n"
     ]
    }
   ],
   "source": [
    "a = np.array([1, 2, 3, 4])\n",
    "\n",
    "b = a.reshape(2, 2)\n",
    "print(b)  # array([[1, 2], [3, 4]])"
   ]
  },
  {
   "cell_type": "markdown",
   "metadata": {},
   "source": [
    "#### **7. Indexing & Slicing:**"
   ]
  },
  {
   "cell_type": "code",
   "execution_count": 37,
   "metadata": {},
   "outputs": [
    {
     "name": "stdout",
     "output_type": "stream",
     "text": [
      "1\n",
      "[2 3]\n"
     ]
    }
   ],
   "source": [
    "a = np.array([1, 2, 3, 4])\n",
    "\n",
    "print(a[0])    # 1\n",
    "print(a[1:3])  # array([2, 3])"
   ]
  },
  {
   "cell_type": "markdown",
   "metadata": {},
   "source": [
    "---"
   ]
  },
  {
   "cell_type": "markdown",
   "metadata": {},
   "source": [
    "#### Other Rough Practice:"
   ]
  },
  {
   "cell_type": "code",
   "execution_count": 24,
   "metadata": {},
   "outputs": [
    {
     "data": {
      "text/plain": [
       "array([1, 2, 3, 4, 5, 6, 7])"
      ]
     },
     "execution_count": 24,
     "metadata": {},
     "output_type": "execute_result"
    }
   ],
   "source": [
    "a"
   ]
  },
  {
   "cell_type": "code",
   "execution_count": 25,
   "metadata": {},
   "outputs": [
    {
     "data": {
      "text/plain": [
       "array([[ 1,  2,  3,  4,  5,  6,  7],\n",
       "       [ 4,  5,  6,  7,  8,  9, 10]])"
      ]
     },
     "execution_count": 25,
     "metadata": {},
     "output_type": "execute_result"
    }
   ],
   "source": [
    "b"
   ]
  },
  {
   "cell_type": "code",
   "execution_count": 26,
   "metadata": {},
   "outputs": [
    {
     "data": {
      "text/plain": [
       "array([[ 0,  0,  0,  0,  0,  0,  0],\n",
       "       [-3, -3, -3, -3, -3, -3, -3]])"
      ]
     },
     "execution_count": 26,
     "metadata": {},
     "output_type": "execute_result"
    }
   ],
   "source": [
    "#1 Subtraction:\n",
    "g = a - b \n",
    "g"
   ]
  },
  {
   "cell_type": "code",
   "execution_count": 27,
   "metadata": {},
   "outputs": [
    {
     "data": {
      "text/plain": [
       "array([[ 2,  4,  6,  8, 10, 12, 14],\n",
       "       [ 5,  7,  9, 11, 13, 15, 17]])"
      ]
     },
     "execution_count": 27,
     "metadata": {},
     "output_type": "execute_result"
    }
   ],
   "source": [
    "#2 Addition:\n",
    "h = a + b\n",
    "h "
   ]
  },
  {
   "cell_type": "code",
   "execution_count": 28,
   "metadata": {},
   "outputs": [
    {
     "data": {
      "text/plain": [
       "array([[ 2,  4,  6,  8, 10, 12, 14],\n",
       "       [ 5,  7,  9, 11, 13, 15, 17]])"
      ]
     },
     "execution_count": 28,
     "metadata": {},
     "output_type": "execute_result"
    }
   ],
   "source": [
    "#2.1 Another method of Addition:\n",
    "h1 = np.add(a, b)\n",
    "h1"
   ]
  },
  {
   "cell_type": "code",
   "execution_count": 29,
   "metadata": {},
   "outputs": [
    {
     "data": {
      "text/plain": [
       "array([[ 1,  4,  9, 16, 25, 36, 49],\n",
       "       [ 4, 10, 18, 28, 40, 54, 70]])"
      ]
     },
     "execution_count": 29,
     "metadata": {},
     "output_type": "execute_result"
    }
   ],
   "source": [
    "#3 Multiplication:\n",
    "i = a * b\n",
    "i"
   ]
  },
  {
   "cell_type": "code",
   "execution_count": 30,
   "metadata": {},
   "outputs": [
    {
     "data": {
      "text/plain": [
       "array([[1.        , 1.        , 1.        , 1.        , 1.        ,\n",
       "        1.        , 1.        ],\n",
       "       [0.25      , 0.4       , 0.5       , 0.57142857, 0.625     ,\n",
       "        0.66666667, 0.7       ]])"
      ]
     },
     "execution_count": 30,
     "metadata": {},
     "output_type": "execute_result"
    }
   ],
   "source": [
    "#4 Division:\n",
    "j = a / b\n",
    "j"
   ]
  },
  {
   "cell_type": "code",
   "execution_count": 92,
   "metadata": {},
   "outputs": [
    {
     "data": {
      "text/plain": [
       "array([1, 2, 3, 4, 5, 6, 7])"
      ]
     },
     "execution_count": 92,
     "metadata": {},
     "output_type": "execute_result"
    }
   ],
   "source": [
    "a"
   ]
  },
  {
   "cell_type": "code",
   "execution_count": 93,
   "metadata": {},
   "outputs": [
    {
     "data": {
      "text/plain": [
       "array([ 1,  4,  9, 16, 25, 36, 49])"
      ]
     },
     "execution_count": 93,
     "metadata": {},
     "output_type": "execute_result"
    }
   ],
   "source": [
    "#5 Square of each element:\n",
    "k = a ** 2\n",
    "k"
   ]
  },
  {
   "cell_type": "markdown",
   "metadata": {},
   "source": [
    "---\n",
    "\n",
    "# Information about the author:\n",
    "\n",
    "- **Author**: Muhammad Fareed Khan\n",
    "- **Code Submission Date**: 14-12-2023\n",
    "- **Author's Contact Info**:\n",
    "  \n",
    "    - Email: [Email](mailto:contact@mfareedkhan.com)\n",
    "    - Github: [Github](https://github.com/fareedkhands)\n",
    "    - Kaggle: [Kaggle](https://www.kaggle.com/muhammadfareedkhan)\n",
    "    - LinkedIn: [LinkedIn](https://www.linkedin.com/in/fareed-khan-385b79150/)\n",
    "    - Twitter: [Twitter](https://twitter.com/fareedkhanmeyo)\n"
   ]
  }
 ],
 "metadata": {
  "kernelspec": {
   "display_name": "python_eda",
   "language": "python",
   "name": "python3"
  },
  "language_info": {
   "codemirror_mode": {
    "name": "ipython",
    "version": 3
   },
   "file_extension": ".py",
   "mimetype": "text/x-python",
   "name": "python",
   "nbconvert_exporter": "python",
   "pygments_lexer": "ipython3",
   "version": "3.11.5"
  }
 },
 "nbformat": 4,
 "nbformat_minor": 2
}
